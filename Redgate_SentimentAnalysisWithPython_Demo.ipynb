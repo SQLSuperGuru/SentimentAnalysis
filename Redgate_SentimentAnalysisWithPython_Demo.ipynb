{
 "cells": [
  {
   "cell_type": "code",
   "execution_count": 1,
   "id": "36a19e44",
   "metadata": {},
   "outputs": [
    {
     "name": "stderr",
     "output_type": "stream",
     "text": [
      "[nltk_data] Downloading package vader_lexicon to\n",
      "[nltk_data]     C:\\Users\\mhatres\\AppData\\Roaming\\nltk_data...\n",
      "[nltk_data]   Package vader_lexicon is already up-to-date!\n"
     ]
    },
    {
     "data": {
      "text/plain": [
       "True"
      ]
     },
     "execution_count": 1,
     "metadata": {},
     "output_type": "execute_result"
    }
   ],
   "source": [
    "import re\n",
    "import pandas as pd\n",
    "import matplotlib.pyplot as plt\n",
    "import nltk\n",
    "from nltk.sentiment.vader import SentimentIntensityAnalyzer\n",
    "\n",
    "nltk.download('vader_lexicon')\n"
   ]
  },
  {
   "cell_type": "code",
   "execution_count": 2,
   "id": "6caa9704",
   "metadata": {},
   "outputs": [
    {
     "name": "stdout",
     "output_type": "stream",
     "text": [
      "    Period Manager    Team                                           Response  \\\n",
      "0  2019-Q1   Mgr 1  Team 1  We're a fun team that works well together and ...   \n",
      "1  2019-Q1   Mgr 1  Team 1  we have a sound and collaborative team focused...   \n",
      "2  2019-Q1   Mgr 1  Team 1  we work well as a team, we have fun together, ...   \n",
      "3  2019-Q1   Mgr 1  Team 1  I fell pretty good about the health of our tea...   \n",
      "4  2019-Q1   Mgr 1  Team 1  happy with team's overall health and good dyna...   \n",
      "5  2019-Q1   Mgr 1  Team 1                                              Solid   \n",
      "6  2019-Q1   Mgr 1  Team 1  The Team 2 team is a  collaborative group prod...   \n",
      "7  2019-Q1   Mgr 1  Team 1  We have great teamwork.  We have a lot of fun....   \n",
      "8  2019-Q1   Mgr 1  Team 1  We feel good about our teamwork, process, tech...   \n",
      "9  2019-Q1   Mgr 1  Team 2  A blast!  Always working towards delivering mo...   \n",
      "\n",
      "   row_id  \n",
      "0       1  \n",
      "1       2  \n",
      "2       3  \n",
      "3       4  \n",
      "4       5  \n",
      "5       6  \n",
      "6       7  \n",
      "7       8  \n",
      "8       9  \n",
      "9      10  \n"
     ]
    }
   ],
   "source": [
    "#df = pd.read_excel (r'Path where the Excel file is stored\\File name.xlsx', sheet_name='your Excel sheet name')\n",
    "df = pd.read_excel (r'C:\\Users\\mhatres\\Documents\\RedGateDemos\\SentimentAnalysis\\TeamHealthRawDataForDemo.xlsx')\n",
    "\n",
    "# adding an row_id field to the dataframe, which will be useful for joining later\n",
    "df[\"row_id\"] = df.index + 1\n",
    "\n",
    "#print first 10 rows \n",
    "print (df.head(10))"
   ]
  },
  {
   "cell_type": "code",
   "execution_count": 3,
   "id": "846c88b0",
   "metadata": {},
   "outputs": [
    {
     "name": "stdout",
     "output_type": "stream",
     "text": [
      "   row_id                                           Response\n",
      "0       1  we re a fun team that works well together and ...\n",
      "1       2  we have a sound and collaborative team focused...\n",
      "2       3  we work well as a team  we have fun together  ...\n",
      "3       4  i fell pretty good about the health of our tea...\n",
      "4       5  happy with team s overall health and good dyna...\n",
      "5       6                                              solid\n",
      "6       7  the team   team is a  collaborative group prod...\n",
      "7       8  we have great teamwork   we have a lot of fun ...\n",
      "8       9  we feel good about our teamwork  process  tech...\n",
      "9      10  a blast   always working towards delivering mo...\n"
     ]
    },
    {
     "name": "stderr",
     "output_type": "stream",
     "text": [
      "<ipython-input-3-4011d4d099f4>:6: FutureWarning: The default value of regex will change from True to False in a future version.\n",
      "  df_subset['Response'] = df_subset['Response'].str.replace(\"[^a-zA-Z#]\", \" \")\n"
     ]
    }
   ],
   "source": [
    "#create a new data frame with \"id\" and \"comment\" fields\n",
    "df_subset = df[['row_id', 'Response']].copy()\n",
    "\n",
    "#data clean-up\n",
    "#remove all non-aphabet characters\n",
    "df_subset['Response'] = df_subset['Response'].str.replace(\"[^a-zA-Z#]\", \" \")\n",
    "\n",
    "#covert to lower-case\n",
    "df_subset['Response'] = df_subset['Response'].str.casefold()\n",
    "\n",
    "print (df_subset.head(10))"
   ]
  },
  {
   "cell_type": "code",
   "execution_count": 4,
   "id": "c8717725",
   "metadata": {},
   "outputs": [],
   "source": [
    "# set up dataframe for staging output\n",
    "df1=pd.DataFrame()\n",
    "df1['row_id']=['99999999999']\n",
    "df1['sentiment_type']='NA999NA'\n",
    "df1['sentiment_score']=0"
   ]
  },
  {
   "cell_type": "code",
   "execution_count": 5,
   "id": "e3e46088",
   "metadata": {},
   "outputs": [
    {
     "name": "stdout",
     "output_type": "stream",
     "text": [
      "Processing sentiment analysis...\n",
      "   row_id sentiment_type  sentiment_score\n",
      "0       1       compound           0.6597\n",
      "0       2       compound           0.9287\n",
      "0       3       compound           0.8122\n",
      "0       4       compound           0.8225\n",
      "0       5       compound           0.8271\n",
      "0       6       compound           0.1531\n",
      "0       7       compound           0.9382\n",
      "0       8       compound           0.9381\n",
      "0       9       compound           0.9468\n",
      "0      10       compound           0.5059\n"
     ]
    }
   ],
   "source": [
    "print('Processing sentiment analysis...')\n",
    "\n",
    "sid = SentimentIntensityAnalyzer()\n",
    "\n",
    "t_df = df1\n",
    "\n",
    "for index, row in df_subset.iterrows():\n",
    "    scores = sid.polarity_scores(row[1])\n",
    "    for key, value in scores.items():\n",
    "        temp = [key,value,row[0]]\n",
    "        df1['row_id']=row[0]\n",
    "        df1['sentiment_type']=key\n",
    "        df1['sentiment_score']=value\n",
    "        t_df=t_df.append(df1)\n",
    "\n",
    "#remove dummy row with row_id = 99999999999\n",
    "t_df_cleaned = t_df[t_df.row_id != '99999999999']\n",
    "\n",
    "#remove duplicates if any exist\n",
    "t_df_cleaned = t_df_cleaned.drop_duplicates()\n",
    "\n",
    "# only keep rows where sentiment_type = compound\n",
    "t_df_cleaned = t_df[t_df.sentiment_type == 'compound']\n",
    "\n",
    "print(t_df_cleaned.head(10))"
   ]
  },
  {
   "cell_type": "code",
   "execution_count": 6,
   "id": "5772ecff",
   "metadata": {},
   "outputs": [
    {
     "name": "stdout",
     "output_type": "stream",
     "text": [
      "    Period Manager    Team                                           Response  \\\n",
      "0  2019-Q1   Mgr 1  Team 1  We're a fun team that works well together and ...   \n",
      "1  2019-Q1   Mgr 1  Team 1  we have a sound and collaborative team focused...   \n",
      "2  2019-Q1   Mgr 1  Team 1  we work well as a team, we have fun together, ...   \n",
      "3  2019-Q1   Mgr 1  Team 1  I fell pretty good about the health of our tea...   \n",
      "4  2019-Q1   Mgr 1  Team 1  happy with team's overall health and good dyna...   \n",
      "5  2019-Q1   Mgr 1  Team 1                                              Solid   \n",
      "6  2019-Q1   Mgr 1  Team 1  The Team 2 team is a  collaborative group prod...   \n",
      "7  2019-Q1   Mgr 1  Team 1  We have great teamwork.  We have a lot of fun....   \n",
      "8  2019-Q1   Mgr 1  Team 1  We feel good about our teamwork, process, tech...   \n",
      "9  2019-Q1   Mgr 1  Team 2  A blast!  Always working towards delivering mo...   \n",
      "\n",
      "   row_id sentiment_type  sentiment_score  \n",
      "0       1       compound           0.6597  \n",
      "1       2       compound           0.9287  \n",
      "2       3       compound           0.8122  \n",
      "3       4       compound           0.8225  \n",
      "4       5       compound           0.8271  \n",
      "5       6       compound           0.1531  \n",
      "6       7       compound           0.9382  \n",
      "7       8       compound           0.9381  \n",
      "8       9       compound           0.9468  \n",
      "9      10       compound           0.5059  \n"
     ]
    }
   ],
   "source": [
    "#merge dataframes\n",
    "\n",
    "df_output = pd.merge(df, t_df_cleaned, on='row_id', how='inner')\n",
    "\n",
    "print(df_output.head(10))"
   ]
  },
  {
   "cell_type": "code",
   "execution_count": 7,
   "id": "42c09413",
   "metadata": {},
   "outputs": [
    {
     "data": {
      "text/html": [
       "<div>\n",
       "<style scoped>\n",
       "    .dataframe tbody tr th:only-of-type {\n",
       "        vertical-align: middle;\n",
       "    }\n",
       "\n",
       "    .dataframe tbody tr th {\n",
       "        vertical-align: top;\n",
       "    }\n",
       "\n",
       "    .dataframe thead th {\n",
       "        text-align: right;\n",
       "    }\n",
       "</style>\n",
       "<table border=\"1\" class=\"dataframe\">\n",
       "  <thead>\n",
       "    <tr style=\"text-align: right;\">\n",
       "      <th></th>\n",
       "      <th>sentiment_score</th>\n",
       "    </tr>\n",
       "  </thead>\n",
       "  <tbody>\n",
       "    <tr>\n",
       "      <th>count</th>\n",
       "      <td>300.000000</td>\n",
       "    </tr>\n",
       "    <tr>\n",
       "      <th>mean</th>\n",
       "      <td>0.594633</td>\n",
       "    </tr>\n",
       "    <tr>\n",
       "      <th>std</th>\n",
       "      <td>0.376298</td>\n",
       "    </tr>\n",
       "    <tr>\n",
       "      <th>min</th>\n",
       "      <td>-0.895700</td>\n",
       "    </tr>\n",
       "    <tr>\n",
       "      <th>25%</th>\n",
       "      <td>0.440400</td>\n",
       "    </tr>\n",
       "    <tr>\n",
       "      <th>50%</th>\n",
       "      <td>0.715900</td>\n",
       "    </tr>\n",
       "    <tr>\n",
       "      <th>75%</th>\n",
       "      <td>0.865800</td>\n",
       "    </tr>\n",
       "    <tr>\n",
       "      <th>max</th>\n",
       "      <td>0.988300</td>\n",
       "    </tr>\n",
       "  </tbody>\n",
       "</table>\n",
       "</div>"
      ],
      "text/plain": [
       "       sentiment_score\n",
       "count       300.000000\n",
       "mean          0.594633\n",
       "std           0.376298\n",
       "min          -0.895700\n",
       "25%           0.440400\n",
       "50%           0.715900\n",
       "75%           0.865800\n",
       "max           0.988300"
      ]
     },
     "execution_count": 7,
     "metadata": {},
     "output_type": "execute_result"
    }
   ],
   "source": [
    "df_output[[\"sentiment_score\"]].describe()"
   ]
  },
  {
   "cell_type": "code",
   "execution_count": 8,
   "id": "ef0abe5e",
   "metadata": {},
   "outputs": [
    {
     "data": {
      "text/plain": [
       "<AxesSubplot:title={'center':'Sentiment Score'}, xlabel='Period', ylabel='Mean Sentiment Score'>"
      ]
     },
     "execution_count": 8,
     "metadata": {},
     "output_type": "execute_result"
    },
    {
     "data": {
      "image/png": "[encoded data removed]",
      "text/plain": [
       "<Figure size 432x360 with 1 Axes>"
      ]
     },
     "metadata": {
      "needs_background": "light"
     },
     "output_type": "display_data"
    }
   ],
   "source": [
    "#generate mean of sentiment_score by period\n",
    "dfg = df_output.groupby(['Period'])['sentiment_score'].mean()\n",
    "\n",
    "#create a bar plot\n",
    "dfg.plot(kind='bar', title='Sentiment Score', ylabel='Mean Sentiment Score',\n",
    "         xlabel='Period', figsize=(6, 5))"
   ]
  },
  {
   "cell_type": "code",
   "execution_count": 10,
   "id": "211c00b0",
   "metadata": {},
   "outputs": [
    {
     "data": {
      "text/plain": [
       "<AxesSubplot:title={'center':'sentiment_score'}, xlabel='Team', ylabel='Mean Sentiment Score'>"
      ]
     },
     "execution_count": 10,
     "metadata": {},
     "output_type": "execute_result"
    },
    {
     "data": {
      "image/png": "[encoded data removed]",
      "text/plain": [
       "<Figure size 432x360 with 1 Axes>"
      ]
     },
     "metadata": {
      "needs_background": "light"
     },
     "output_type": "display_data"
    }
   ],
   "source": [
    "dfg = df_output.groupby(['Team'])['sentiment_score'].mean()\n",
    "\n",
    "dfg.plot(kind='bar', title='sentiment_score', ylabel='Mean Sentiment Score',\n",
    "         xlabel='Team', figsize=(6, 5))"
   ]
  },
  {
   "cell_type": "code",
   "execution_count": 42,
   "id": "48752938",
   "metadata": {
    "scrolled": true
   },
   "outputs": [
    {
     "data": {
      "text/plain": [
       "(array([ 0,  1,  2,  3,  4,  5,  6,  7,  8,  9, 10]),\n",
       " [Text(0, 0, 'Team 1'),\n",
       "  Text(1, 0, 'Team 2'),\n",
       "  Text(2, 0, 'Team 3'),\n",
       "  Text(3, 0, 'Team 4'),\n",
       "  Text(4, 0, 'Team 5'),\n",
       "  Text(5, 0, 'Team 6'),\n",
       "  Text(6, 0, 'Team 7 '),\n",
       "  Text(7, 0, 'Team 8'),\n",
       "  Text(8, 0, 'Team 9'),\n",
       "  Text(9, 0, 'Team 8 '),\n",
       "  Text(10, 0, 'Team 9 ')])"
      ]
     },
     "execution_count": 42,
     "metadata": {},
     "output_type": "execute_result"
    },
    {
     "data": {
      "image/png": "[encoded data removed]",
      "text/plain": [
       "<Figure size 432x288 with 1 Axes>"
      ]
     },
     "metadata": {
      "needs_background": "light"
     },
     "output_type": "display_data"
    }
   ],
   "source": [
    "import seaborn as sns\n",
    "\n",
    "#create seaborn boxplots by group\n",
    "sns.boxplot(x='Team', y='sentiment_score', notch = True,\n",
    "            data=df_output, showfliers=False).set(title='Sentiment Score by Team')\n",
    "#modify axis labels\n",
    "plt.xlabel('Team')\n",
    "plt.ylabel('Sentiment Score')\n",
    "plt.xticks(rotation=90)"
   ]
  },
  {
   "cell_type": "code",
   "execution_count": null,
   "id": "a3079ebc",
   "metadata": {},
   "outputs": [],
   "source": []
  }
 ],
 "metadata": {
  "kernelspec": {
   "display_name": "Python 3",
   "language": "python",
   "name": "python3"
  },
  "language_info": {
   "codemirror_mode": {
    "name": "ipython",
    "version": 3
   },
   "file_extension": ".py",
   "mimetype": "text/x-python",
   "name": "python",
   "nbconvert_exporter": "python",
   "pygments_lexer": "ipython3",
   "version": "3.8.8"
  }
 },
 "nbformat": 4,
 "nbformat_minor": 5
}
