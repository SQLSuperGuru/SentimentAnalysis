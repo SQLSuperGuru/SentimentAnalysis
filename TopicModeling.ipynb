{
 "cells": [
  {
   "cell_type": "code",
   "execution_count": null,
   "id": "d21f17d0",
   "metadata": {},
   "outputs": [],
   "source": [
    "#Install spacy by running following code from anaconda command prompt \n",
    "# conda install -c conda-forge spacy\n",
    "# python -m spacy download en_core_web_sm"
   ]
  },
  {
   "cell_type": "code",
   "execution_count": null,
   "id": "f308d5f5",
   "metadata": {},
   "outputs": [],
   "source": [
    "# using this version of gensim because latest version (4.0) removes support for wrappers\n",
    "!pip install gensim==3.8.3 \n"
   ]
  },
  {
   "cell_type": "code",
   "execution_count": 1,
   "id": "30eb3f06",
   "metadata": {},
   "outputs": [
    {
     "name": "stderr",
     "output_type": "stream",
     "text": [
      "[nltk_data] Downloading package stopwords to\n",
      "[nltk_data]     C:\\Users\\mhatres\\AppData\\Roaming\\nltk_data...\n",
      "[nltk_data]   Package stopwords is already up-to-date!\n"
     ]
    }
   ],
   "source": [
    "import re\n",
    "import numpy as np\n",
    "import pandas as pd\n",
    "from pprint import pprint\n",
    "\n",
    "# Gensim\n",
    "import gensim\n",
    "import gensim.corpora as corpora\n",
    "from gensim.utils import simple_preprocess\n",
    "from gensim.models import CoherenceModel\n",
    "\n",
    "# spacy for lemmatization\n",
    "import spacy\n",
    "\n",
    "# Plotting tools\n",
    "import pyLDAvis\n",
    "import pyLDAvis.gensim_models as gensimvis\n",
    "import matplotlib.pyplot as plt\n",
    "%matplotlib inline\n",
    "\n",
    "# NLTK Stop words\n",
    "import nltk\n",
    "nltk.download('stopwords')\n",
    "from nltk.corpus import stopwords\n",
    "stop_words = stopwords.words('english')\n",
    "stop_words.extend(['us', 're'])\n",
    "\n",
    "# load spacy\n",
    "import en_core_web_sm\n",
    "nlp = en_core_web_sm.load()\n",
    "\n",
    "#wordcloud\n",
    "from wordcloud import WordCloud, STOPWORDS, ImageColorGenerator"
   ]
  },
  {
   "cell_type": "code",
   "execution_count": 2,
   "id": "ef71e5a7",
   "metadata": {},
   "outputs": [
    {
     "name": "stderr",
     "output_type": "stream",
     "text": [
      "C:\\Users\\mhatres\\Anaconda3\\lib\\site-packages\\ipykernel\\ipkernel.py:287: DeprecationWarning: `should_run_async` will not call `transform_cell` automatically in the future. Please pass the result to `transformed_cell` argument and any exception that happen during thetransform in `preprocessing_exc_tuple` in IPython 7.17 and above.\n",
      "  and should_run_async(code)\n"
     ]
    },
    {
     "name": "stdout",
     "output_type": "stream",
     "text": [
      "    Period Manager    Team                                           Response  \\\n",
      "0  2019-Q1   Mgr 1  Team 1  We're a fun team that works well together and ...   \n",
      "1  2019-Q1   Mgr 1  Team 1  we have a sound and collaborative team focused...   \n",
      "2  2019-Q1   Mgr 1  Team 1  we work well as a team, we have fun together, ...   \n",
      "3  2019-Q1   Mgr 1  Team 1  I fell pretty good about the health of our tea...   \n",
      "4  2019-Q1   Mgr 1  Team 1  happy with team's overall health and good dyna...   \n",
      "5  2019-Q1   Mgr 1  Team 1                                              Solid   \n",
      "6  2019-Q1   Mgr 1  Team 1  The Team 2 team is a  collaborative group prod...   \n",
      "7  2019-Q1   Mgr 1  Team 1  We have great teamwork.  We have a lot of fun....   \n",
      "8  2019-Q1   Mgr 1  Team 1  We feel good about our teamwork, process, tech...   \n",
      "9  2019-Q1   Mgr 1  Team 2  A blast!  Always working towards delivering mo...   \n",
      "\n",
      "   Unnamed: 4  Unnamed: 5  Unnamed: 6  Unnamed: 7  Unnamed: 8  Unnamed: 9  \\\n",
      "0         NaN         NaN         NaN         NaN         NaN         NaN   \n",
      "1         NaN         NaN         NaN         NaN         NaN         NaN   \n",
      "2         NaN         NaN         NaN         NaN         NaN         NaN   \n",
      "3         NaN         NaN         NaN         NaN         NaN         NaN   \n",
      "4         NaN         NaN         NaN         NaN         NaN         NaN   \n",
      "5         NaN         NaN         NaN         NaN         NaN         NaN   \n",
      "6         NaN         NaN         NaN         NaN         NaN         NaN   \n",
      "7         NaN         NaN         NaN         NaN         NaN         NaN   \n",
      "8         NaN         NaN         NaN         NaN         NaN         NaN   \n",
      "9         NaN         NaN         NaN         NaN         NaN         NaN   \n",
      "\n",
      "   ...  Unnamed: 94  Unnamed: 95  Unnamed: 96  Unnamed: 97  Unnamed: 98  \\\n",
      "0  ...          NaN          NaN          NaN          NaN          NaN   \n",
      "1  ...          NaN          NaN          NaN          NaN          NaN   \n",
      "2  ...          NaN          NaN          NaN          NaN          NaN   \n",
      "3  ...          NaN          NaN          NaN          NaN          NaN   \n",
      "4  ...          NaN          NaN          NaN          NaN          NaN   \n",
      "5  ...          NaN          NaN          NaN          NaN          NaN   \n",
      "6  ...          NaN          NaN          NaN          NaN          NaN   \n",
      "7  ...          NaN          NaN          NaN          NaN          NaN   \n",
      "8  ...          NaN          NaN          NaN          NaN          NaN   \n",
      "9  ...          NaN          NaN          NaN          NaN          NaN   \n",
      "\n",
      "   Unnamed: 99  Unnamed: 100  Unnamed: 101  Unnamed: 102  Unnamed: 103  \n",
      "0          NaN           NaN           NaN           NaN           NaN  \n",
      "1          NaN           NaN           NaN           NaN           NaN  \n",
      "2          NaN           NaN           NaN           NaN           NaN  \n",
      "3          NaN           NaN           NaN           NaN           NaN  \n",
      "4          NaN           NaN           NaN           NaN           NaN  \n",
      "5          NaN           NaN           NaN           NaN           NaN  \n",
      "6          NaN           NaN           NaN           NaN           NaN  \n",
      "7          NaN           NaN           NaN           NaN           NaN  \n",
      "8          NaN           NaN           NaN           NaN           NaN  \n",
      "9          NaN           NaN           NaN           NaN           NaN  \n",
      "\n",
      "[10 rows x 104 columns]\n",
      "0    we re a fun team that works well together and ...\n",
      "1    we have a sound and collaborative team focused...\n",
      "2    we work well as a team  we have fun together  ...\n",
      "3    i fell pretty good about the health of our tea...\n",
      "4    happy with team s overall health and good dyna...\n",
      "5                                                solid\n",
      "6    the team   team is a  collaborative group prod...\n",
      "7    we have great teamwork   we have a lot of fun ...\n",
      "8    we feel good about our teamwork  process  tech...\n",
      "9    a blast   always working towards delivering mo...\n",
      "Name: Response, dtype: object\n"
     ]
    },
    {
     "name": "stderr",
     "output_type": "stream",
     "text": [
      "<ipython-input-2-3eb5c1c964ba>:15: FutureWarning: The default value of regex will change from True to False in a future version.\n",
      "  df5 = df4.str.replace(\"[^a-zA-Z#]\", \" \")\n"
     ]
    }
   ],
   "source": [
    "# Import input data file and clean up response text\n",
    "df = pd.read_excel (r'C:\\Users\\mhatres\\Documents\\RedGateDemos\\TeamHealthRawDataForDemo_FromGithubRepo.xlsx')\n",
    "print (df.head(10))\n",
    "\n",
    "df2 = df[['Response']]\n",
    "#print (df2.head(10)) \n",
    "\n",
    "# convert to string \n",
    "df3 = df2['Response'].apply(str)\n",
    "\n",
    "#covert to lower-case\n",
    "df4 = df3.str.casefold()\n",
    "\n",
    "#remove all non-aphabet characters\n",
    "df5 = df4.str.replace(\"[^a-zA-Z#]\", \" \")\n",
    "\n",
    "print (df5.head(10)) "
   ]
  },
  {
   "cell_type": "code",
   "execution_count": 3,
   "id": "a42a458a",
   "metadata": {},
   "outputs": [
    {
     "name": "stderr",
     "output_type": "stream",
     "text": [
      "C:\\Users\\mhatres\\Anaconda3\\lib\\site-packages\\ipykernel\\ipkernel.py:287: DeprecationWarning: `should_run_async` will not call `transform_cell` automatically in the future. Please pass the result to `transformed_cell` argument and any exception that happen during thetransform in `preprocessing_exc_tuple` in IPython 7.17 and above.\n",
      "  and should_run_async(code)\n"
     ]
    },
    {
     "data": {
      "image/png": "[encoded data removed]",
      "text/plain": [
       "<Figure size 432x288 with 1 Axes>"
      ]
     },
     "metadata": {
      "needs_background": "light"
     },
     "output_type": "display_data"
    }
   ],
   "source": [
    "# Create and generate a word cloud image:\n",
    "\n",
    "text = df5[0]\n",
    "wordcloud = WordCloud().generate(text)\n",
    "\n",
    "# Display the generated image:\n",
    "plt.imshow(wordcloud, interpolation='bilinear')\n",
    "plt.axis(\"off\")\n",
    "plt.show()"
   ]
  },
  {
   "cell_type": "code",
   "execution_count": 4,
   "id": "e76ebcf2",
   "metadata": {},
   "outputs": [
    {
     "name": "stdout",
     "output_type": "stream",
     "text": [
      "['fell', 'pretty_good', 'about', 'the', 'health', 'of', 'our', 'team', 'my', 'main', 'concerns', 're', 'lack_of', 'vision', 'into', 'what', 'our', 'application', 'true', 'purpose', 'is', 'and', 'the', 'future', 'direction', 'of', 'our', 'team']\n"
     ]
    },
    {
     "name": "stderr",
     "output_type": "stream",
     "text": [
      "C:\\Users\\mhatres\\Anaconda3\\lib\\site-packages\\ipykernel\\ipkernel.py:287: DeprecationWarning: `should_run_async` will not call `transform_cell` automatically in the future. Please pass the result to `transformed_cell` argument and any exception that happen during thetransform in `preprocessing_exc_tuple` in IPython 7.17 and above.\n",
      "  and should_run_async(code)\n"
     ]
    }
   ],
   "source": [
    "# Convert dataframe to list and tokenize words\n",
    "data = df5.values.tolist()\n",
    " \n",
    "def sent_to_words(sentences):\n",
    "    for sentence in sentences:\n",
    "        yield(gensim.utils.simple_preprocess(str(sentence)))  \n",
    "\n",
    "data_words = list(sent_to_words(data))\n",
    "\n",
    "# Build the bigram and trigram models\n",
    "bigram = gensim.models.Phrases(data_words, min_count=3, threshold=10) \n",
    "trigram = gensim.models.Phrases(bigram[data_words], threshold=8)  \n",
    "\n",
    "bigram_mod = gensim.models.phrases.Phraser(bigram)\n",
    "trigram_mod = gensim.models.phrases.Phraser(trigram)\n",
    "\n",
    "# print a sample \n",
    "print(trigram_mod[bigram_mod[data_words[3]]])\n"
   ]
  },
  {
   "cell_type": "code",
   "execution_count": 5,
   "id": "1e4c4248",
   "metadata": {},
   "outputs": [
    {
     "name": "stderr",
     "output_type": "stream",
     "text": [
      "C:\\Users\\mhatres\\Anaconda3\\lib\\site-packages\\ipykernel\\ipkernel.py:287: DeprecationWarning: `should_run_async` will not call `transform_cell` automatically in the future. Please pass the result to `transformed_cell` argument and any exception that happen during thetransform in `preprocessing_exc_tuple` in IPython 7.17 and above.\n",
      "  and should_run_async(code)\n"
     ]
    }
   ],
   "source": [
    "# Define functions for stopwords, n-grams and lemmatization\n",
    "\n",
    "def remove_stopwords(texts):\n",
    "    return [[word for word in simple_preprocess(str(doc)) if word not in stop_words] for doc in texts]\n",
    "\n",
    "def make_bigrams(texts):\n",
    "    return [bigram_mod[doc] for doc in texts]\n",
    "\n",
    "def make_trigrams(texts):\n",
    "    return [trigram_mod[bigram_mod[doc]] for doc in texts]\n",
    "\n",
    "def lemmatization(texts, allowed_postags=['NOUN', 'ADJ', 'VERB', 'ADV']):\n",
    "    \"\"\"https://spacy.io/api/annotation\"\"\"\n",
    "    texts_out = []\n",
    "    for sent in texts:\n",
    "        doc = nlp(\" \".join(sent)) \n",
    "        texts_out.append([token.lemma_ for token in doc if token.pos_ in allowed_postags])\n",
    "    return texts_out"
   ]
  },
  {
   "cell_type": "code",
   "execution_count": 6,
   "id": "bfd2339e",
   "metadata": {},
   "outputs": [
    {
     "name": "stderr",
     "output_type": "stream",
     "text": [
      "C:\\Users\\mhatres\\Anaconda3\\lib\\site-packages\\ipykernel\\ipkernel.py:287: DeprecationWarning: `should_run_async` will not call `transform_cell` automatically in the future. Please pass the result to `transformed_cell` argument and any exception that happen during thetransform in `preprocessing_exc_tuple` in IPython 7.17 and above.\n",
      "  and should_run_async(code)\n"
     ]
    },
    {
     "name": "stdout",
     "output_type": "stream",
     "text": [
      "[['fun', 'team', 'together', 'constantly', 'learn', 'together', 'small', 'allow', 'move', 'quickly', 'process', 'little', 'overhead']]\n"
     ]
    }
   ],
   "source": [
    "# call the functions created above\n",
    "\n",
    "# Remove Stop Words\n",
    "data_words_nostops = remove_stopwords(data_words)\n",
    "\n",
    "# Form Bigrams\n",
    "data_words_bigrams = make_bigrams(data_words_nostops)\n",
    "\n",
    "# Do lemmatization keeping only noun, adj, vb, adv\n",
    "data_lemmatized = lemmatization(data_words_bigrams, allowed_postags=['NOUN', 'ADJ', 'VERB', 'ADV'])\n",
    "\n",
    "print(data_lemmatized[:1])"
   ]
  },
  {
   "cell_type": "code",
   "execution_count": 7,
   "id": "d0cf6c93",
   "metadata": {},
   "outputs": [
    {
     "name": "stderr",
     "output_type": "stream",
     "text": [
      "C:\\Users\\mhatres\\Anaconda3\\lib\\site-packages\\ipykernel\\ipkernel.py:287: DeprecationWarning: `should_run_async` will not call `transform_cell` automatically in the future. Please pass the result to `transformed_cell` argument and any exception that happen during thetransform in `preprocessing_exc_tuple` in IPython 7.17 and above.\n",
      "  and should_run_async(code)\n"
     ]
    },
    {
     "data": {
      "text/plain": [
       "[[('process', 1),\n",
       "  ('team', 1),\n",
       "  ('accordingly', 1),\n",
       "  ('adapt', 1),\n",
       "  ('business', 1),\n",
       "  ('capability', 1),\n",
       "  ('collaborative', 1),\n",
       "  ('current', 1),\n",
       "  ('delivery', 1),\n",
       "  ('discipline', 1),\n",
       "  ('ensure', 1),\n",
       "  ('evolve', 1),\n",
       "  ('expand', 1),\n",
       "  ('focus', 1),\n",
       "  ('opportunity', 1),\n",
       "  ('product', 2),\n",
       "  ('proper', 1),\n",
       "  ('scope', 2),\n",
       "  ('sound', 1),\n",
       "  ('value', 1),\n",
       "  ('vision', 2)]]"
      ]
     },
     "execution_count": 7,
     "metadata": {},
     "output_type": "execute_result"
    }
   ],
   "source": [
    "# Create Dictionary\n",
    "id2word = corpora.Dictionary(data_lemmatized)\n",
    "\n",
    "# Create Corpus\n",
    "texts = data_lemmatized\n",
    "\n",
    "# Term Document Frequency\n",
    "corpus = [id2word.doc2bow(text) for text in texts]\n",
    "\n",
    "# view corpus in human readable format\n",
    "[[(id2word[id], freq) for id, freq in cp] for cp in corpus[1:2]]"
   ]
  },
  {
   "cell_type": "code",
   "execution_count": 8,
   "id": "902b3a41",
   "metadata": {},
   "outputs": [
    {
     "name": "stderr",
     "output_type": "stream",
     "text": [
      "C:\\Users\\mhatres\\Anaconda3\\lib\\site-packages\\ipykernel\\ipkernel.py:287: DeprecationWarning: `should_run_async` will not call `transform_cell` automatically in the future. Please pass the result to `transformed_cell` argument and any exception that happen during thetransform in `preprocessing_exc_tuple` in IPython 7.17 and above.\n",
      "  and should_run_async(code)\n"
     ]
    },
    {
     "name": "stdout",
     "output_type": "stream",
     "text": [
      "[(0,\n",
      "  '0.038*\"team\" + 0.025*\"good\" + 0.022*\"improvement\" + 0.018*\"overall\" + '\n",
      "  '0.018*\"feel\" + 0.014*\"need\" + 0.014*\"improve\" + 0.013*\"health\" + '\n",
      "  '0.011*\"positive\" + 0.010*\"green\"'),\n",
      " (1,\n",
      "  '0.100*\"team\" + 0.037*\"work\" + 0.032*\"good\" + 0.026*\"great\" + 0.020*\"feel\" + '\n",
      "  '0.014*\"support\" + 0.013*\"overall\" + 0.010*\"well\" + 0.009*\"fun\" + '\n",
      "  '0.009*\"lot\"')]\n"
     ]
    }
   ],
   "source": [
    "# Build LDA model\n",
    "lda_model = gensim.models.ldamodel.LdaModel(corpus=corpus,\n",
    "                                           id2word=id2word,\n",
    "                                           num_topics=2, # change this number and re-run as needed\n",
    "                                           random_state=100,\n",
    "                                           update_every=1,\n",
    "                                           chunksize=100,\n",
    "                                           passes=10,\n",
    "                                           alpha='auto',\n",
    "                                           per_word_topics=True)\n",
    "\n",
    "\n",
    "# Print the Keyword in the topics\n",
    "pprint(lda_model.print_topics())\n",
    "doc_lda = lda_model[corpus]"
   ]
  },
  {
   "cell_type": "code",
   "execution_count": 9,
   "id": "f4fd63de",
   "metadata": {},
   "outputs": [
    {
     "name": "stderr",
     "output_type": "stream",
     "text": [
      "C:\\Users\\mhatres\\Anaconda3\\lib\\site-packages\\ipykernel\\ipkernel.py:287: DeprecationWarning: `should_run_async` will not call `transform_cell` automatically in the future. Please pass the result to `transformed_cell` argument and any exception that happen during thetransform in `preprocessing_exc_tuple` in IPython 7.17 and above.\n",
      "  and should_run_async(code)\n"
     ]
    },
    {
     "name": "stdout",
     "output_type": "stream",
     "text": [
      "\n",
      "Perplexity:  -6.089494478111165\n",
      "\n",
      "Coherence Score:  0.22104142033971352\n"
     ]
    }
   ],
   "source": [
    "# Compute Perplexity\n",
    "print('\\nPerplexity: ', lda_model.log_perplexity(corpus)) \n",
    "# value closer to 0 is better\n",
    "\n",
    "# Compute Coherence Score\n",
    "coherence_model_lda = CoherenceModel(model=lda_model, texts=data_lemmatized, dictionary=id2word, coherence='c_v')\n",
    "coherence_lda = coherence_model_lda.get_coherence()\n",
    "print('\\nCoherence Score: ', coherence_lda)\n",
    "# value closer to 1 is better\n",
    "\n",
    "# change value of num_topics and re-run, you should notice these scores change"
   ]
  },
  {
   "cell_type": "code",
   "execution_count": 10,
   "id": "b994d1a3",
   "metadata": {
    "scrolled": false
   },
   "outputs": [
    {
     "name": "stderr",
     "output_type": "stream",
     "text": [
      "C:\\Users\\mhatres\\Anaconda3\\lib\\site-packages\\ipykernel\\ipkernel.py:287: DeprecationWarning: `should_run_async` will not call `transform_cell` automatically in the future. Please pass the result to `transformed_cell` argument and any exception that happen during thetransform in `preprocessing_exc_tuple` in IPython 7.17 and above.\n",
      "  and should_run_async(code)\n"
     ]
    },
    {
     "data": {
      "text/html": [
       "\n",
       "<link rel=\"stylesheet\" type=\"text/css\" href=\"https://cdn.jsdelivr.net/gh/bmabey/pyLDAvis@3.3.1/pyLDAvis/js/ldavis.v1.0.0.css\">\n",
       "\n",
       "\n",
       "<div id=\"ldavis_el1484422612728297283501374047\"></div>\n",
       "<script type=\"text/javascript\">\n",
       "\n",
       "var ldavis_el1484422612728297283501374047_data = {\"mdsDat\": {\"x\": [0.09785885299994944, -0.09785885299994944], \"y\": [0.0, 0.0], \"topics\": [1, 2], \"cluster\": [1, 1], \"Freq\": [58.2441502289856, 41.755849771014404]}, \"tinfo\": {\"Term\": [\"work\", \"improvement\", \"great\", \"health\", \"team\", \"positive\", \"go\", \"see\", \"improve\", \"fun\", \"room\", \"direction\", \"would\", \"agile\", \"help\", \"come\", \"yellow\", \"green\", \"new\", \"definitely\", \"session\", \"right\", \"together\", \"always\", \"learn\", \"future\", \"healthy\", \"impact\", \"organization\", \"forward\", \"work\", \"fun\", \"together\", \"collaboration\", \"great\", \"high\", \"new\", \"learn\", \"team_member\", \"always\", \"awesome\", \"healthy\", \"do\", \"really\", \"get\", \"way\", \"goal\", \"try\", \"many\", \"willing\", \"lead\", \"trust\", \"even\", \"discuss\", \"ahead\", \"group\", \"drive\", \"control\", \"build\", \"understanding\", \"lack\", \"open\", \"support\", \"team\", \"provide\", \"time\", \"happy\", \"good\", \"strong\", \"value\", \"feel\", \"well\", \"business\", \"think\", \"overall\", \"lot\", \"issue\", \"need\", \"area\", \"health\", \"improvement\", \"go\", \"direction\", \"right\", \"session\", \"positive\", \"would\", \"yellow\", \"however\", \"room\", \"see\", \"generally\", \"come\", \"forward\", \"scope\", \"impact\", \"optimistic\", \"could\", \"nee\", \"organization\", \"experience\", \"agile\", \"right_direction\", \"red\", \"meeting\", \"last\", \"definitely\", \"stay\", \"progress\", \"help\", \"future\", \"improve\", \"green\", \"know\", \"people\", \"make\", \"need\", \"thing\", \"overall\", \"good\", \"feel\", \"area\", \"team\", \"process\", \"lot\", \"trend\", \"well\", \"think\"], \"Freq\": [73.0, 31.0, 52.0, 18.0, 246.0, 15.0, 13.0, 13.0, 25.0, 18.0, 11.0, 10.0, 10.0, 11.0, 12.0, 10.0, 9.0, 18.0, 16.0, 9.0, 7.0, 7.0, 13.0, 15.0, 13.0, 9.0, 14.0, 6.0, 7.0, 6.0, 72.21229324440196, 17.981854933421264, 12.86117989913169, 10.81574842433702, 50.65620493748065, 10.48038667913773, 16.095551514596842, 12.492345480394238, 10.338879470065578, 14.637878821979275, 8.027189729804888, 13.31171260934785, 7.48568848549512, 7.4212948870903865, 11.44679686161658, 13.37650162521352, 5.844735746480193, 6.557295575185744, 9.681917227886043, 5.393159548499811, 5.999150768590896, 5.9002959529956645, 5.825489995027367, 6.5689275138885, 4.728658253591294, 5.985176499347911, 5.236492718525016, 4.515256674119116, 4.273821437823706, 4.6829474546733625, 8.6754140567486, 5.290039358448416, 27.782050621176626, 194.00358779327664, 7.469683085558724, 14.608023452593992, 10.214016724001652, 62.056560513708185, 12.596299740078495, 11.155777716877, 38.596040833933365, 20.104882806489414, 12.620911099309879, 16.59227150627498, 25.871665468330455, 16.926247038553132, 10.88669118073368, 14.071877007385035, 11.414271748827629, 17.69752018195268, 30.364870588612984, 12.995581608675788, 9.661998638048738, 7.326324301383023, 7.368726686334443, 14.60138088098377, 9.802994236150813, 8.842252343537972, 5.997265083964563, 10.781306659404454, 12.86304001230651, 5.323246032659527, 9.327868619517131, 6.271562957785232, 4.828958786983762, 6.369303151054353, 4.516530730737197, 4.514111150497907, 4.251005207477178, 6.457024073708897, 4.062781301573848, 10.374327709809197, 4.092716746068943, 3.956016919928939, 3.8394457154673503, 3.8340483144985473, 8.72050813205825, 3.6249883809514576, 3.6434642362507805, 10.960841837816519, 7.926399572866546, 19.296730343835865, 14.018141290311235, 6.817253530220654, 7.646590971060262, 9.42781723670362, 19.88825087846054, 12.799287592273252, 25.486134120253183, 34.29680793898678, 25.40992928886832, 13.102139999902674, 52.059257075586004, 9.594940685257294, 11.466647111975929, 7.4717251240360545, 9.538292674562888, 7.936522807297116], \"Total\": [73.0, 31.0, 52.0, 18.0, 246.0, 15.0, 13.0, 13.0, 25.0, 18.0, 11.0, 10.0, 10.0, 11.0, 12.0, 10.0, 9.0, 18.0, 16.0, 9.0, 7.0, 7.0, 13.0, 15.0, 13.0, 9.0, 14.0, 6.0, 7.0, 6.0, 73.04753240757864, 18.40519611680677, 13.276337523925307, 11.19569456204977, 52.43928915274864, 10.880533922617998, 16.77355347780899, 13.033887024825258, 10.811188377597636, 15.355513842066053, 8.451949357397263, 14.054501787718277, 7.914209012202765, 7.851094217165094, 12.143188796975707, 14.217171283430858, 6.226964406544379, 7.008673249079505, 10.37056248676047, 5.778602611548692, 6.445336305478642, 6.362029972733496, 6.283141780283882, 7.115983781808932, 5.124564088176316, 6.492710010513706, 5.6838164493330385, 4.9014030265536705, 4.6516745772843615, 5.120858061043981, 9.51674834078961, 5.794461219686783, 32.15377008804341, 246.06284486886264, 8.34921890607325, 17.691440423732505, 11.986344720176792, 96.35336845269497, 15.659254888737026, 13.724033316154724, 64.00597012280168, 29.643175481052303, 16.691619803287686, 24.528794313572096, 51.35779958858364, 28.39289415052906, 15.861646806532967, 33.96012788584557, 24.516411748730302, 18.29666230324434, 31.48187942923447, 13.560808913955174, 10.0997950103952, 7.761227410247707, 7.820487898478459, 15.684567792667377, 10.535420076785353, 9.517992186315388, 6.462422948486825, 11.667059279704178, 13.98375375240679, 5.796339605866031, 10.165235630927564, 6.867556038369353, 5.302015655722081, 6.993708135887678, 4.989477092004586, 4.989682613078058, 4.699242987708649, 7.138321997542056, 4.491676333728749, 11.497448069564225, 4.551957506919131, 4.411529531384139, 4.287096956045422, 4.287558646548595, 9.752512914666145, 4.055398598322909, 4.080151818404962, 12.57384333617604, 9.400031052997726, 25.947535393109057, 18.403495222005013, 8.342821832833193, 9.648363944624336, 12.796768374347046, 33.96012788584557, 19.70026759452397, 51.35779958858364, 96.35336845269497, 64.00597012280168, 24.516411748730302, 246.06284486886264, 17.651127395289674, 28.39289415052906, 11.212938382347652, 29.643175481052303, 24.528794313572096], \"Category\": [\"Default\", \"Default\", \"Default\", \"Default\", \"Default\", \"Default\", \"Default\", \"Default\", \"Default\", \"Default\", \"Default\", \"Default\", \"Default\", \"Default\", \"Default\", \"Default\", \"Default\", \"Default\", \"Default\", \"Default\", \"Default\", \"Default\", \"Default\", \"Default\", \"Default\", \"Default\", \"Default\", \"Default\", \"Default\", \"Default\", \"Topic1\", \"Topic1\", \"Topic1\", \"Topic1\", \"Topic1\", \"Topic1\", \"Topic1\", \"Topic1\", \"Topic1\", \"Topic1\", \"Topic1\", \"Topic1\", \"Topic1\", \"Topic1\", \"Topic1\", \"Topic1\", \"Topic1\", \"Topic1\", \"Topic1\", \"Topic1\", \"Topic1\", \"Topic1\", \"Topic1\", \"Topic1\", \"Topic1\", \"Topic1\", \"Topic1\", \"Topic1\", \"Topic1\", \"Topic1\", \"Topic1\", \"Topic1\", \"Topic1\", \"Topic1\", \"Topic1\", \"Topic1\", \"Topic1\", \"Topic1\", \"Topic1\", \"Topic1\", \"Topic1\", \"Topic1\", \"Topic1\", \"Topic1\", \"Topic1\", \"Topic1\", \"Topic1\", \"Topic1\", \"Topic1\", \"Topic2\", \"Topic2\", \"Topic2\", \"Topic2\", \"Topic2\", \"Topic2\", \"Topic2\", \"Topic2\", \"Topic2\", \"Topic2\", \"Topic2\", \"Topic2\", \"Topic2\", \"Topic2\", \"Topic2\", \"Topic2\", \"Topic2\", \"Topic2\", \"Topic2\", \"Topic2\", \"Topic2\", \"Topic2\", \"Topic2\", \"Topic2\", \"Topic2\", \"Topic2\", \"Topic2\", \"Topic2\", \"Topic2\", \"Topic2\", \"Topic2\", \"Topic2\", \"Topic2\", \"Topic2\", \"Topic2\", \"Topic2\", \"Topic2\", \"Topic2\", \"Topic2\", \"Topic2\", \"Topic2\", \"Topic2\", \"Topic2\", \"Topic2\", \"Topic2\", \"Topic2\", \"Topic2\", \"Topic2\", \"Topic2\"], \"logprob\": [30.0, 29.0, 28.0, 27.0, 26.0, 25.0, 24.0, 23.0, 22.0, 21.0, 20.0, 19.0, 18.0, 17.0, 16.0, 15.0, 14.0, 13.0, 12.0, 11.0, 10.0, 9.0, 8.0, 7.0, 6.0, 5.0, 4.0, 3.0, 2.0, 1.0, -3.2879, -4.6781, -5.0133, -5.1865, -3.6424, -5.218, -4.789, -5.0424, -5.2316, -4.8839, -5.4847, -4.9789, -5.5545, -5.5631, -5.1298, -4.974, -5.802, -5.6869, -5.2972, -5.8824, -5.7759, -5.7925, -5.8053, -5.6851, -6.0139, -5.7782, -5.9118, -6.06, -6.115, -6.0236, -5.407, -5.9017, -4.2431, -2.2996, -5.5566, -4.8859, -5.2437, -3.4394, -5.0341, -5.1555, -3.9143, -4.5665, -5.0321, -4.7586, -4.3143, -4.7386, -5.18, -4.9233, -5.1326, -4.3613, -3.8214, -4.6701, -4.9665, -5.2432, -5.2374, -4.5536, -4.952, -5.0551, -5.4434, -4.8569, -4.6803, -5.5626, -5.0017, -5.3987, -5.6601, -5.3832, -5.7269, -5.7275, -5.7875, -5.3695, -5.8328, -4.8954, -5.8255, -5.8595, -5.8894, -5.8908, -5.069, -5.9468, -5.9418, -4.8404, -5.1645, -4.2748, -4.5943, -5.3152, -5.2004, -4.991, -4.2446, -4.6853, -3.9966, -3.6996, -3.9996, -4.6619, -3.2823, -4.9735, -4.7952, -5.2236, -4.9794, -5.1632], \"loglift\": [30.0, 29.0, 28.0, 27.0, 26.0, 25.0, 24.0, 23.0, 22.0, 21.0, 20.0, 19.0, 18.0, 17.0, 16.0, 15.0, 14.0, 13.0, 12.0, 11.0, 10.0, 9.0, 8.0, 7.0, 6.0, 5.0, 4.0, 3.0, 2.0, 1.0, 0.529, 0.5173, 0.5088, 0.506, 0.5059, 0.5031, 0.4993, 0.4981, 0.4959, 0.4927, 0.489, 0.4862, 0.4849, 0.4842, 0.4815, 0.4796, 0.4772, 0.474, 0.4718, 0.4715, 0.4688, 0.4652, 0.4649, 0.4605, 0.4601, 0.4591, 0.4586, 0.4585, 0.4558, 0.4511, 0.448, 0.4494, 0.3944, 0.3028, 0.4292, 0.349, 0.3805, 0.1006, 0.3229, 0.3333, 0.0347, 0.1523, 0.261, 0.1496, -0.1451, 0.0233, 0.1642, -0.3405, -0.224, 0.84, 0.8372, 0.8308, 0.829, 0.8157, 0.8138, 0.8018, 0.8013, 0.7997, 0.7986, 0.7944, 0.7898, 0.7882, 0.7874, 0.7825, 0.7799, 0.7798, 0.7737, 0.7732, 0.7731, 0.773, 0.773, 0.7705, 0.767, 0.7643, 0.763, 0.7615, 0.7615, 0.7611, 0.7601, 0.736, 0.7028, 0.5772, 0.6011, 0.6714, 0.6408, 0.5678, 0.3383, 0.4421, 0.1726, -0.1596, -0.0505, 0.2468, -0.6799, 0.2638, -0.0334, 0.4674, -0.2606, -0.255]}, \"token.table\": {\"Topic\": [1, 2, 1, 1, 2, 1, 2, 1, 1, 1, 2, 1, 1, 2, 1, 2, 1, 2, 2, 1, 2, 1, 1, 1, 2, 1, 2, 1, 2, 1, 1, 2, 2, 1, 2, 1, 2, 1, 1, 2, 1, 2, 1, 2, 1, 2, 1, 2, 1, 2, 1, 2, 1, 2, 1, 2, 1, 2, 1, 2, 1, 2, 1, 2, 1, 2, 1, 2, 2, 1, 1, 2, 1, 2, 1, 2, 1, 2, 2, 2, 1, 2, 1, 2, 1, 2, 2, 1, 2, 1, 2, 1, 2, 1, 2, 1, 2, 2, 1, 2, 1, 2, 2, 2, 1, 2, 2, 1, 2, 2, 2, 1, 2, 1, 2, 1, 2, 1, 1, 2, 1, 2, 1, 2, 1, 1, 2, 1, 1, 1, 1, 2, 1, 2, 1, 2, 1, 1, 2, 1, 2, 1, 2], \"Freq\": [0.08697582228243993, 0.8697582228243992, 0.9756927445860776, 0.9768478055685684, 0.06512318703790455, 0.4486790364242307, 0.5302570430468181, 0.9465272047564139, 0.8599053810714318, 0.7788339390188745, 0.23964121200580754, 0.982520551899199, 0.09837450269795187, 0.8853705242815667, 1.0201160714416206, 1.0020677441276324, 0.10253767503308482, 0.9228390752977633, 0.9901191053588231, 0.9837009491076372, 0.14052870701537673, 0.8844851063709382, 0.879690617135731, 0.9549362738920896, 0.8905361167640979, 0.609318160871161, 0.3905885646610006, 0.14561220824598356, 0.8736732494759013, 0.9779846889848262, 0.10638262728728902, 0.8510610182983122, 0.8626133629126705, 0.9058576115311309, 0.08235069195737553, 0.07374191365316848, 0.9586448774911903, 0.9635513563710361, 0.6434647900289975, 0.352867788080418, 0.9725532291531225, 0.03813934231973029, 0.217350017034656, 0.760725059621296, 0.9241133502472995, 0.15401889170788324, 0.8342826969732359, 0.16685653939464717, 0.05465477710777235, 0.9837859879399022, 0.9249705323144384, 0.07115157940880296, 0.15906035621151937, 0.8748319591633565, 0.9190725447041178, 0.9284443385750384, 0.14298566376663283, 0.857913982599797, 0.26977514025702054, 0.7322468092690557, 0.03176430435952268, 0.9529291307856805, 0.6934967178483263, 0.31522578084014835, 0.23972704200981443, 0.8390446470343506, 0.9457011657464156, 0.10507790730515729, 0.9329318453101337, 0.9309056526499481, 0.9206769996658676, 0.07672308330548896, 0.5987413579563966, 0.3874208786776684, 0.23443418777618336, 0.7033025633285501, 0.9642678507329234, 0.09642678507329235, 0.9330323155764941, 0.8512009296949337, 0.41224815310059937, 0.5889259330008563, 0.9538825521477974, 0.059617659509237336, 0.8628929956442565, 0.1725785991288513, 1.0021090202041967, 0.14008894532136976, 0.8405336719282185, 0.5062522189089184, 0.4867809797201138, 0.2072890296716384, 0.8291561186865536, 0.06375693695987629, 0.9563540543981444, 0.45322884033655864, 0.5665360504206983, 0.9803556774423419, 0.8384017809029028, 0.11977168298612899, 0.8915954650876154, 0.9067150002155784, 0.9019191978265444, 0.878742825239441, 0.08571140130740429, 0.9428254143814472, 0.9430375775303234, 0.07151155674690615, 0.9296502377097801, 0.8950848196263955, 0.9863395429623567, 0.8301799857252656, 0.19157999670583054, 0.8708154572023884, 0.12440220817176977, 0.7884164718301573, 0.21132812646993906, 0.9249676955700321, 0.35532512268745886, 0.6598895135624235, 0.6930630092402741, 0.3261472984660113, 0.8478676490286216, 0.16957352980572432, 0.9791857111626366, 0.35673075723818615, 0.6242788251668258, 0.9430952110749099, 0.9987624977265641, 0.976398865267642, 0.8015136473803053, 0.21859463110371963, 0.9143872392640168, 0.0703374799433859, 0.674691549587319, 0.3373457747936595, 0.8652610909785293, 0.9856595784545631, 0.013689716367424488, 0.09491790481173937, 0.9491790481173936, 0.10506417534548541, 0.9455775781093688], \"Term\": [\"agile\", \"agile\", \"ahead\", \"always\", \"always\", \"area\", \"area\", \"awesome\", \"build\", \"business\", \"business\", \"collaboration\", \"come\", \"come\", \"control\", \"could\", \"definitely\", \"definitely\", \"direction\", \"discuss\", \"discuss\", \"do\", \"drive\", \"even\", \"experience\", \"feel\", \"feel\", \"forward\", \"forward\", \"fun\", \"future\", \"future\", \"generally\", \"get\", \"get\", \"go\", \"go\", \"goal\", \"good\", \"good\", \"great\", \"great\", \"green\", \"green\", \"group\", \"group\", \"happy\", \"happy\", \"health\", \"health\", \"healthy\", \"healthy\", \"help\", \"help\", \"high\", \"however\", \"impact\", \"impact\", \"improve\", \"improve\", \"improvement\", \"improvement\", \"issue\", \"issue\", \"know\", \"know\", \"lack\", \"lack\", \"last\", \"lead\", \"learn\", \"learn\", \"lot\", \"lot\", \"make\", \"make\", \"many\", \"many\", \"meeting\", \"nee\", \"need\", \"need\", \"new\", \"new\", \"open\", \"open\", \"optimistic\", \"organization\", \"organization\", \"overall\", \"overall\", \"people\", \"people\", \"positive\", \"positive\", \"process\", \"process\", \"progress\", \"provide\", \"provide\", \"really\", \"red\", \"right\", \"right_direction\", \"room\", \"room\", \"scope\", \"see\", \"see\", \"session\", \"stay\", \"strong\", \"strong\", \"support\", \"support\", \"team\", \"team\", \"team_member\", \"thing\", \"thing\", \"think\", \"think\", \"time\", \"time\", \"together\", \"trend\", \"trend\", \"trust\", \"try\", \"understanding\", \"value\", \"value\", \"way\", \"way\", \"well\", \"well\", \"willing\", \"work\", \"work\", \"would\", \"would\", \"yellow\", \"yellow\"]}, \"R\": 30, \"lambda.step\": 0.01, \"plot.opts\": {\"xlab\": \"PC1\", \"ylab\": \"PC2\"}, \"topic.order\": [2, 1]};\n",
       "\n",
       "function LDAvis_load_lib(url, callback){\n",
       "  var s = document.createElement('script');\n",
       "  s.src = url;\n",
       "  s.async = true;\n",
       "  s.onreadystatechange = s.onload = callback;\n",
       "  s.onerror = function(){console.warn(\"failed to load library \" + url);};\n",
       "  document.getElementsByTagName(\"head\")[0].appendChild(s);\n",
       "}\n",
       "\n",
       "if(typeof(LDAvis) !== \"undefined\"){\n",
       "   // already loaded: just create the visualization\n",
       "   !function(LDAvis){\n",
       "       new LDAvis(\"#\" + \"ldavis_el1484422612728297283501374047\", ldavis_el1484422612728297283501374047_data);\n",
       "   }(LDAvis);\n",
       "}else if(typeof define === \"function\" && define.amd){\n",
       "   // require.js is available: use it to load d3/LDAvis\n",
       "   require.config({paths: {d3: \"https://d3js.org/d3.v5\"}});\n",
       "   require([\"d3\"], function(d3){\n",
       "      window.d3 = d3;\n",
       "      LDAvis_load_lib(\"https://cdn.jsdelivr.net/gh/bmabey/pyLDAvis@3.3.1/pyLDAvis/js/ldavis.v3.0.0.js\", function(){\n",
       "        new LDAvis(\"#\" + \"ldavis_el1484422612728297283501374047\", ldavis_el1484422612728297283501374047_data);\n",
       "      });\n",
       "    });\n",
       "}else{\n",
       "    // require.js not available: dynamically load d3 & LDAvis\n",
       "    LDAvis_load_lib(\"https://d3js.org/d3.v5.js\", function(){\n",
       "         LDAvis_load_lib(\"https://cdn.jsdelivr.net/gh/bmabey/pyLDAvis@3.3.1/pyLDAvis/js/ldavis.v3.0.0.js\", function(){\n",
       "                 new LDAvis(\"#\" + \"ldavis_el1484422612728297283501374047\", ldavis_el1484422612728297283501374047_data);\n",
       "            })\n",
       "         });\n",
       "}\n",
       "</script>"
      ],
      "text/plain": [
       "PreparedData(topic_coordinates=              x    y  topics  cluster      Freq\n",
       "topic                                          \n",
       "1      0.097859  0.0       1        1  58.24415\n",
       "0     -0.097859  0.0       2        1  41.75585, topic_info=            Term        Freq       Total Category  logprob  loglift\n",
       "33          work   73.000000   73.000000  Default  30.0000  30.0000\n",
       "114  improvement   31.000000   31.000000  Default  29.0000  29.0000\n",
       "71         great   52.000000   52.000000  Default  28.0000  28.0000\n",
       "39        health   18.000000   18.000000  Default  27.0000  27.0000\n",
       "10          team  246.000000  246.000000  Default  26.0000  26.0000\n",
       "..           ...         ...         ...      ...      ...      ...\n",
       "7        process    9.594941   17.651127   Topic2  -4.9735   0.2638\n",
       "101          lot   11.466647   28.392894   Topic2  -4.7952  -0.0334\n",
       "180        trend    7.471725   11.212938   Topic2  -5.2236   0.4674\n",
       "69          well    9.538293   29.643175   Topic2  -4.9794  -0.2606\n",
       "32         think    7.936523   24.528794   Topic2  -5.1632  -0.2550\n",
       "\n",
       "[128 rows x 6 columns], token_table=      Topic      Freq    Term\n",
       "term                         \n",
       "70        1  0.086976   agile\n",
       "70        2  0.869758   agile\n",
       "286       1  0.975693   ahead\n",
       "91        1  0.976848  always\n",
       "91        2  0.065123  always\n",
       "...     ...       ...     ...\n",
       "33        2  0.013690    work\n",
       "210       1  0.094918   would\n",
       "210       2  0.949179   would\n",
       "244       1  0.105064  yellow\n",
       "244       2  0.945578  yellow\n",
       "\n",
       "[143 rows x 3 columns], R=30, lambda_step=0.01, plot_opts={'xlab': 'PC1', 'ylab': 'PC2'}, topic_order=[2, 1])"
      ]
     },
     "execution_count": 10,
     "metadata": {},
     "output_type": "execute_result"
    }
   ],
   "source": [
    "# Visualize the topics\n",
    "pyLDAvis.enable_notebook()\n",
    "vis = gensimvis.prepare(lda_model, corpus, id2word)\n",
    "vis\n",
    "\n",
    "# change num_topics and re-run until intertopic distance chart looks good"
   ]
  },
  {
   "cell_type": "code",
   "execution_count": 11,
   "id": "e8e10c1b",
   "metadata": {
    "scrolled": true
   },
   "outputs": [
    {
     "name": "stderr",
     "output_type": "stream",
     "text": [
      "C:\\Users\\mhatres\\Anaconda3\\lib\\site-packages\\ipykernel\\ipkernel.py:287: DeprecationWarning: `should_run_async` will not call `transform_cell` automatically in the future. Please pass the result to `transformed_cell` argument and any exception that happen during thetransform in `preprocessing_exc_tuple` in IPython 7.17 and above.\n",
      "  and should_run_async(code)\n"
     ]
    },
    {
     "name": "stdout",
     "output_type": "stream",
     "text": [
      "\n",
      "Perplexity:  -6.174804552909445\n",
      "\n",
      "Coherence Score:  0.245479070649285\n"
     ]
    },
    {
     "data": {
      "text/html": [
       "\n",
       "<link rel=\"stylesheet\" type=\"text/css\" href=\"https://cdn.jsdelivr.net/gh/bmabey/pyLDAvis@3.3.1/pyLDAvis/js/ldavis.v1.0.0.css\">\n",
       "\n",
       "\n",
       "<div id=\"ldavis_el148442261293312480625656813\"></div>\n",
       "<script type=\"text/javascript\">\n",
       "\n",
       "var ldavis_el148442261293312480625656813_data = {\"mdsDat\": {\"x\": [0.0020899836316997204, -0.12011378764709457, 0.11802380401539483], \"y\": [-0.11656456889030796, 0.056747763754933664, 0.059816805135374206], \"topics\": [1, 2, 3], \"cluster\": [1, 1, 1], \"Freq\": [43.337618628494475, 36.88505448690277, 19.777326884602758]}, \"tinfo\": {\"Term\": [\"need\", \"work\", \"improve\", \"improvement\", \"great\", \"overall\", \"would\", \"come\", \"room\", \"green\", \"fun\", \"always\", \"feel\", \"way\", \"know\", \"support\", \"look\", \"go\", \"collaboration\", \"also\", \"however\", \"positive\", \"agile\", \"keep\", \"healthy\", \"generally\", \"change\", \"could\", \"make\", \"direction\", \"improve\", \"green\", \"look\", \"agile\", \"go\", \"vision\", \"organization\", \"impact\", \"need\", \"product\", \"mission\", \"definitely\", \"positive\", \"awesome\", \"scope\", \"much\", \"point\", \"optimistic\", \"control\", \"leadership\", \"cloud\", \"may\", \"add\", \"level\", \"job\", \"bad\", \"external\", \"adapt\", \"conversation\", \"share\", \"proud\", \"teamwork\", \"overall\", \"process\", \"seem\", \"area\", \"good\", \"feel\", \"future\", \"team\", \"well\", \"right\", \"work\", \"thing\", \"health\", \"time\", \"projectx\", \"business\", \"improvement\", \"support\", \"great\", \"think\", \"always\", \"way\", \"collaboration\", \"goal\", \"even\", \"fun\", \"willing\", \"open\", \"speed\", \"ahead\", \"do\", \"solution\", \"drive\", \"due\", \"works_well\", \"build\", \"right_direction\", \"problem\", \"difficult\", \"term\", \"want\", \"enjoy\", \"member\", \"question\", \"hard\", \"valuable\", \"mature\", \"solid\", \"helpful\", \"achieve\", \"healthy\", \"great\", \"lead\", \"support\", \"work\", \"together\", \"team\", \"opportunity\", \"new\", \"lot\", \"many\", \"learn\", \"get\", \"feel\", \"issue\", \"value\", \"good\", \"strong\", \"think\", \"team_member\", \"business\", \"trend\", \"provide\", \"improvement\", \"would\", \"come\", \"know\", \"however\", \"keep\", \"generally\", \"could\", \"nee\", \"meeting\", \"still\", \"stay\", \"month\", \"say\", \"fairly\", \"execute\", \"face\", \"confident\", \"room\", \"technology\", \"glad\", \"scale\", \"set\", \"rock\", \"project\", \"fall\", \"unknown\", \"complete\", \"growth\", \"difference\", \"demand\", \"also\", \"improvement\", \"application\", \"change\", \"help\", \"make\", \"training\", \"concern\", \"good\", \"team\", \"well\", \"health\", \"direction\", \"overall\", \"think\", \"lot\", \"see\", \"thing\", \"great\", \"challenge\"], \"Freq\": [35.0, 72.0, 27.0, 31.0, 51.0, 52.0, 9.0, 9.0, 10.0, 19.0, 18.0, 15.0, 66.0, 14.0, 7.0, 32.0, 14.0, 14.0, 11.0, 8.0, 5.0, 16.0, 12.0, 5.0, 13.0, 5.0, 8.0, 4.0, 12.0, 10.0, 27.085823122572073, 19.254254595972377, 13.964433492854226, 11.993994892772912, 14.168428795391353, 8.725290860042767, 7.242459206335719, 7.086115753478901, 33.260212305117406, 9.687212017294481, 9.950473055436307, 9.646151579009313, 15.450453285250312, 7.783406655153074, 5.2177676272872215, 5.264729841753946, 4.952267117749681, 4.863100434570589, 4.4389094337719825, 5.914607149645215, 4.46895447422385, 3.558015052520948, 3.5701272317216257, 4.49058214493324, 3.347954110041604, 3.5150338226690825, 4.5567016750099665, 3.061850329623597, 2.983186341713772, 4.489077212112926, 3.7487065612706605, 8.20266465304635, 41.214554665319106, 14.545521866338639, 10.246834573231874, 18.95301335612617, 55.136567215045034, 38.49410258499509, 7.665631168900843, 101.6891021741312, 16.714910507647204, 6.3484553891320035, 28.602060866872993, 11.468433882472041, 10.003013339759843, 9.5706529430079, 7.80279485446675, 8.578309423025166, 10.303219791685956, 8.592043149746997, 8.363210256329964, 7.989311355866587, 14.577524533857561, 13.459878912156796, 10.56184301861189, 5.651667164412367, 5.676166404191463, 16.58698811656006, 5.193883325384814, 5.189703338676986, 4.781255948929837, 4.5621503206214165, 6.932384745717484, 4.438943672292997, 4.988541478362765, 7.201268322994063, 4.054895129631088, 4.055723369355402, 4.249388576379825, 4.261105430496296, 4.665281852656809, 3.929154421402352, 3.730911364579392, 3.4280588355518273, 3.4286885715405613, 3.6914119732643043, 3.798934544829836, 3.0189092673607196, 2.973923358285091, 2.9566754941914843, 2.6857863446899155, 2.6840055152000355, 11.303609267906772, 38.60101360420333, 5.063036850095246, 22.928564140586353, 43.99777801478465, 9.622029364164462, 116.90016411419964, 8.32753630810579, 11.650154579663534, 16.82364221663062, 7.440133914394627, 8.808255314375204, 8.279222324187527, 27.469688466388273, 9.503209477268431, 8.531583317542308, 25.270150711912326, 8.494128286538473, 10.811358791756703, 6.779305281630017, 8.177766950850408, 6.850640565158163, 5.710892008831085, 5.802696564058249, 9.01079191603945, 8.652927557638291, 6.9732188720341615, 5.36245765308961, 4.883403510113825, 4.691912878495605, 4.024115542543319, 3.7730556821672305, 3.391895747786566, 3.964425809407756, 3.1952069120990276, 3.0026127784637384, 2.718181463380232, 2.896913005850435, 2.6718775033264373, 2.6946506897701474, 2.5249208854835254, 8.844869621899859, 2.441884499639839, 2.2742918129652643, 2.617964639952069, 2.0891713975364845, 2.064136154297254, 2.0130363341052546, 2.0723722003245904, 1.799603506891543, 2.4873123561659467, 1.7744656514220665, 1.773909465607754, 1.7685451857082626, 5.9767216838724, 15.143760677086933, 2.8036383356327543, 4.867619883425123, 5.750894033281826, 5.674480800481271, 2.881563990127989, 3.8265256766611344, 16.266203290860847, 26.966180919527957, 7.669795956545792, 6.017356127049697, 4.303345900919439, 8.07010110039498, 5.370546738828919, 5.632992427805177, 4.35575276542129, 4.1917252038193205, 4.478404506659327, 3.211609882353297], \"Total\": [35.0, 72.0, 27.0, 31.0, 51.0, 52.0, 9.0, 9.0, 10.0, 19.0, 18.0, 15.0, 66.0, 14.0, 7.0, 32.0, 14.0, 14.0, 11.0, 8.0, 5.0, 16.0, 12.0, 5.0, 13.0, 5.0, 8.0, 4.0, 12.0, 10.0, 27.90682871046203, 19.841429886075037, 14.489770631461878, 12.519508033391027, 14.832970618602221, 9.240240014483168, 7.754424865383644, 7.600391015226744, 35.736285433441964, 10.44718886722068, 10.83798592553435, 10.529919417384086, 16.935896778078238, 8.545910763518352, 5.744885412089559, 5.82967616839077, 5.493806447548739, 5.396861144940576, 4.949643374709695, 6.604428862323827, 5.067269576901435, 4.060232929751214, 4.086632635856313, 5.150356109682309, 3.8588251225932666, 4.052878677085984, 5.259550764900097, 3.575769491431083, 3.488305797289996, 5.250758741468475, 4.388852076462594, 9.736264478724447, 52.54255896740786, 18.150483650141947, 12.574997614318518, 25.39482059076096, 96.6729212178182, 66.39472139646186, 9.894823110043419, 245.55544720785878, 29.158625475482353, 8.180956195987672, 72.99524666183983, 20.1104608229029, 18.773194173647955, 17.421779139902654, 12.513970397608801, 17.02958472409646, 31.249677032831137, 32.27419839085296, 51.442628367192626, 24.171216886452207, 15.207208744693038, 14.107766504508795, 11.080851486264047, 6.161547669133828, 6.22144073962395, 18.241318474576836, 5.716972258337496, 5.737960236649166, 5.293881616450681, 5.072102225918099, 7.776010033922046, 4.983975748166523, 5.632278949445686, 8.132854104198568, 4.598770755324129, 4.603174691660257, 4.82449775594023, 4.83856248672311, 5.3009640598423, 4.515158303852574, 4.317553025130706, 3.9742085035059693, 3.9805684969001565, 4.2866466639321725, 4.436459736498248, 3.538636734716015, 3.512908320284215, 3.510344446577027, 3.2018748064546205, 3.201868335136492, 13.614712863747133, 51.442628367192626, 6.25940349002124, 32.27419839085296, 72.99524666183983, 13.213722749445887, 245.55544720785878, 11.23354039963741, 16.696901148056366, 28.19906957108384, 10.34394323137648, 12.998737287380992, 12.116450134964552, 66.39472139646186, 16.22821113075832, 13.888192370582157, 96.6729212178182, 15.419938483305591, 24.171216886452207, 10.784267543892161, 17.02958472409646, 11.611014261672576, 8.356910977144679, 31.249677032831137, 9.62822879771306, 9.285717304276867, 7.573969612108995, 5.937206992406635, 5.555325433519811, 5.34422709424924, 4.596887102458327, 4.332735962654606, 3.9590818792240405, 4.635899464009064, 3.747282997246317, 3.5609552878858213, 3.2767503399383604, 3.492522928998572, 3.2228870715457285, 3.2817984271208425, 3.090808888407798, 10.89735594322049, 3.017552550057529, 2.8263151835927274, 3.296338884945402, 2.6385494639911657, 2.617036877913134, 2.5640658362220505, 2.6416431031293333, 2.35530410771237, 3.2564737557076153, 2.360552680989294, 2.3603372959795053, 2.3620058470972998, 8.34807942298027, 31.249677032831137, 4.129141669734612, 8.456313442436228, 12.432670171066306, 12.55990905493799, 4.496355525220812, 7.4108275075273, 96.6729212178182, 245.55544720785878, 29.158625475482353, 18.773194173647955, 10.174926773065488, 52.54255896740786, 24.171216886452207, 28.19906957108384, 14.334526244182241, 20.1104608229029, 51.442628367192626, 7.012371928407964], \"Category\": [\"Default\", \"Default\", \"Default\", \"Default\", \"Default\", \"Default\", \"Default\", \"Default\", \"Default\", \"Default\", \"Default\", \"Default\", \"Default\", \"Default\", \"Default\", \"Default\", \"Default\", \"Default\", \"Default\", \"Default\", \"Default\", \"Default\", \"Default\", \"Default\", \"Default\", \"Default\", \"Default\", \"Default\", \"Default\", \"Default\", \"Topic1\", \"Topic1\", \"Topic1\", \"Topic1\", \"Topic1\", \"Topic1\", \"Topic1\", \"Topic1\", \"Topic1\", \"Topic1\", \"Topic1\", \"Topic1\", \"Topic1\", \"Topic1\", \"Topic1\", \"Topic1\", \"Topic1\", \"Topic1\", \"Topic1\", \"Topic1\", \"Topic1\", \"Topic1\", \"Topic1\", \"Topic1\", \"Topic1\", \"Topic1\", \"Topic1\", \"Topic1\", \"Topic1\", \"Topic1\", \"Topic1\", \"Topic1\", \"Topic1\", \"Topic1\", \"Topic1\", \"Topic1\", \"Topic1\", \"Topic1\", \"Topic1\", \"Topic1\", \"Topic1\", \"Topic1\", \"Topic1\", \"Topic1\", \"Topic1\", \"Topic1\", \"Topic1\", \"Topic1\", \"Topic1\", \"Topic1\", \"Topic1\", \"Topic1\", \"Topic2\", \"Topic2\", \"Topic2\", \"Topic2\", \"Topic2\", \"Topic2\", \"Topic2\", \"Topic2\", \"Topic2\", \"Topic2\", \"Topic2\", \"Topic2\", \"Topic2\", \"Topic2\", \"Topic2\", \"Topic2\", \"Topic2\", \"Topic2\", \"Topic2\", \"Topic2\", \"Topic2\", \"Topic2\", \"Topic2\", \"Topic2\", \"Topic2\", \"Topic2\", \"Topic2\", \"Topic2\", \"Topic2\", \"Topic2\", \"Topic2\", \"Topic2\", \"Topic2\", \"Topic2\", \"Topic2\", \"Topic2\", \"Topic2\", \"Topic2\", \"Topic2\", \"Topic2\", \"Topic2\", \"Topic2\", \"Topic2\", \"Topic2\", \"Topic2\", \"Topic2\", \"Topic2\", \"Topic2\", \"Topic2\", \"Topic2\", \"Topic2\", \"Topic2\", \"Topic2\", \"Topic2\", \"Topic3\", \"Topic3\", \"Topic3\", \"Topic3\", \"Topic3\", \"Topic3\", \"Topic3\", \"Topic3\", \"Topic3\", \"Topic3\", \"Topic3\", \"Topic3\", \"Topic3\", \"Topic3\", \"Topic3\", \"Topic3\", \"Topic3\", \"Topic3\", \"Topic3\", \"Topic3\", \"Topic3\", \"Topic3\", \"Topic3\", \"Topic3\", \"Topic3\", \"Topic3\", \"Topic3\", \"Topic3\", \"Topic3\", \"Topic3\", \"Topic3\", \"Topic3\", \"Topic3\", \"Topic3\", \"Topic3\", \"Topic3\", \"Topic3\", \"Topic3\", \"Topic3\", \"Topic3\", \"Topic3\", \"Topic3\", \"Topic3\", \"Topic3\", \"Topic3\", \"Topic3\", \"Topic3\", \"Topic3\", \"Topic3\", \"Topic3\"], \"logprob\": [30.0, 29.0, 28.0, 27.0, 26.0, 25.0, 24.0, 23.0, 22.0, 21.0, 20.0, 19.0, 18.0, 17.0, 16.0, 15.0, 14.0, 13.0, 12.0, 11.0, 10.0, 9.0, 8.0, 7.0, 6.0, 5.0, 4.0, 3.0, 2.0, 1.0, -3.9729, -4.3141, -4.6354, -4.7875, -4.6209, -5.1056, -5.2919, -5.3137, -3.7675, -5.0011, -4.9743, -5.0053, -4.5342, -5.2199, -5.6198, -5.6108, -5.672, -5.6902, -5.7815, -5.4944, -5.7747, -6.0027, -5.9993, -5.7699, -6.0635, -6.0148, -5.7553, -6.1529, -6.1789, -5.7702, -5.9505, -5.1674, -3.5531, -4.5946, -4.9449, -4.3299, -3.2621, -3.6214, -5.2351, -2.65, -4.4556, -5.4237, -3.9184, -4.8323, -4.969, -5.0132, -5.2174, -5.1226, -4.9394, -5.121, -5.148, -5.1938, -4.4312, -4.5109, -4.7534, -5.3787, -5.3744, -4.302, -5.4632, -5.464, -5.546, -5.5929, -5.1745, -5.6202, -5.5035, -5.1364, -5.7107, -5.7105, -5.6639, -5.6611, -5.5705, -5.7422, -5.794, -5.8787, -5.8785, -5.8046, -5.7759, -6.0058, -6.0208, -6.0266, -6.1227, -6.1233, -4.6855, -3.4574, -5.4887, -3.9783, -3.3265, -4.8466, -2.3493, -4.9911, -4.6553, -4.2879, -5.1038, -4.935, -4.9969, -3.7976, -4.859, -4.9669, -3.881, -4.9713, -4.7301, -5.1968, -5.0092, -5.1863, -5.3683, -5.3523, -4.289, -4.3295, -4.5453, -4.808, -4.9015, -4.9415, -5.0951, -5.1595, -5.266, -5.11, -5.3257, -5.3879, -5.4874, -5.4237, -5.5046, -5.4961, -5.5612, -4.3075, -5.5946, -5.6657, -5.525, -5.7506, -5.7627, -5.7877, -5.7587, -5.8998, -5.5762, -5.9139, -5.9142, -5.9172, -4.6995, -3.7698, -5.4565, -4.9048, -4.738, -4.7514, -5.4291, -5.1454, -3.6983, -3.1928, -4.4501, -4.6927, -5.028, -4.3992, -4.8065, -4.7587, -5.0159, -5.0543, -4.9881, -5.3206], \"loglift\": [30.0, 29.0, 28.0, 27.0, 26.0, 25.0, 24.0, 23.0, 22.0, 21.0, 20.0, 19.0, 18.0, 17.0, 16.0, 15.0, 14.0, 13.0, 12.0, 11.0, 10.0, 9.0, 8.0, 7.0, 6.0, 5.0, 4.0, 3.0, 2.0, 1.0, 0.8063, 0.8061, 0.7992, 0.7933, 0.7903, 0.7788, 0.7678, 0.7661, 0.7643, 0.7606, 0.7507, 0.7485, 0.7444, 0.7427, 0.7399, 0.7342, 0.7324, 0.732, 0.7272, 0.7258, 0.7105, 0.7041, 0.701, 0.6991, 0.6941, 0.6938, 0.6927, 0.681, 0.6797, 0.6794, 0.6785, 0.6648, 0.5933, 0.6147, 0.6314, 0.5436, 0.2746, 0.291, 0.5809, -0.0455, 0.2797, 0.5826, -0.1008, 0.2745, 0.2066, 0.2371, 0.3638, 0.1504, -0.2734, -0.4873, -0.9805, -0.2709, 0.9551, 0.9504, 0.9494, 0.911, 0.9056, 0.9023, 0.9014, 0.8969, 0.8955, 0.8914, 0.8825, 0.8816, 0.876, 0.8757, 0.8715, 0.8707, 0.8704, 0.8703, 0.8696, 0.8583, 0.8513, 0.8495, 0.8481, 0.8479, 0.8422, 0.8385, 0.8308, 0.8257, 0.8216, 0.8209, 0.8113, 0.7102, 0.7852, 0.6555, 0.4911, 0.6802, 0.2552, 0.698, 0.6375, 0.4809, 0.6679, 0.6082, 0.6165, 0.1148, 0.4622, 0.5101, -0.3443, 0.4011, 0.1928, 0.5332, 0.2638, 0.4698, 0.6167, -0.6863, 1.5544, 1.5501, 1.538, 1.5188, 1.4917, 1.4905, 1.4876, 1.4823, 1.466, 1.4642, 1.4613, 1.4501, 1.4337, 1.4337, 1.4331, 1.4235, 1.4184, 1.412, 1.409, 1.4033, 1.3902, 1.3872, 1.3833, 1.3787, 1.3779, 1.3515, 1.3512, 1.3352, 1.335, 1.3313, 1.2865, 0.8962, 1.2335, 1.0683, 0.8497, 0.8261, 1.1757, 0.9596, -0.1616, -0.5883, 0.2852, 0.4829, 0.7601, -0.2528, 0.1164, 0.01, 0.4295, 0.0525, -0.8206, 0.8397]}, \"token.table\": {\"Topic\": [2, 1, 1, 1, 2, 1, 2, 3, 2, 2, 3, 1, 2, 3, 1, 2, 1, 2, 1, 2, 1, 2, 3, 1, 3, 1, 2, 3, 3, 1, 2, 3, 3, 1, 1, 3, 1, 3, 3, 3, 2, 1, 3, 2, 3, 2, 2, 3, 2, 2, 3, 1, 3, 3, 3, 1, 2, 1, 2, 1, 2, 3, 3, 1, 2, 3, 1, 2, 1, 2, 3, 1, 2, 3, 1, 3, 2, 1, 2, 3, 2, 3, 1, 2, 3, 2, 3, 1, 1, 1, 2, 3, 1, 2, 1, 3, 3, 2, 3, 1, 1, 2, 1, 1, 1, 2, 3, 1, 2, 3, 1, 2, 2, 1, 3, 2, 1, 2, 3, 1, 3, 1, 3, 1, 2, 2, 1, 2, 1, 1, 1, 2, 3, 1, 1, 3, 2, 1, 2, 3, 1, 3, 1, 2, 3, 1, 1, 2, 2, 1, 3, 2, 3, 1, 3, 3, 3, 1, 1, 2, 3, 1, 3, 3, 1, 2, 2, 2, 3, 3, 1, 2, 3, 1, 2, 3, 1, 2, 3, 1, 2, 1, 3, 3, 2, 1, 2, 3, 1, 2, 3, 1, 2, 3, 1, 2, 2, 3, 1, 2, 3, 3, 2, 1, 2, 1, 2, 2, 1, 2, 3, 2, 1, 2, 2, 3], \"Freq\": [0.9369529555849502, 0.8389802550721326, 0.9788009729340009, 0.9585041175735152, 0.9857845479632368, 0.23957606278810398, 0.11978803139405199, 0.718728188364312, 0.9863743078580842, 0.2421810826520447, 0.7265432479561341, 0.7481840610802544, 0.1575124339116325, 0.07875621695581625, 0.9361202359087587, 0.11701502948859484, 0.9869528102617658, 0.8689655005374767, 0.528492041691728, 0.46977070372598045, 0.28521019997495556, 0.28521019997495556, 0.42781529996243334, 0.3547645224389545, 0.5912742040649243, 0.7893797516188087, 0.9927034951813702, 0.969230454157239, 0.6141612523345548, 0.26987539488249684, 0.26987539488249684, 0.5397507897649937, 0.9706197012864883, 0.8081390308720184, 0.8600163444187284, 0.8701540653153906, 0.94967488388285, 0.094967488388285, 0.8467379547166771, 0.8473365240665865, 0.9432246556579648, 0.5896848334951041, 0.39312322233006947, 0.9002045997192928, 0.12860065710275612, 0.8877401216948047, 0.8607064519190459, 0.1229580645598637, 0.7548672892611091, 0.9644068393654209, 0.930842419669756, 0.9506515334670361, 0.9141329263881489, 0.8589778967779618, 0.7571045451335828, 0.5723346555382187, 0.40665883419820803, 0.05482059870802174, 0.9319501780363696, 0.8085035893041747, 0.10106294866302183, 0.20212589732604366, 0.9355889844913866, 0.33012969602847314, 0.6602593920569463, 0.707635161007648, 0.9438433042159753, 0.9737813163496083, 0.5689287062721211, 0.2586039573964187, 0.16550653273370797, 0.15551304927300283, 0.7581261152058888, 0.07775652463650141, 0.9575922758134703, 0.847259210144724, 0.901619813450003, 0.5326744030612042, 0.15980232091836125, 0.3196046418367225, 0.8079494668808245, 0.14689990306924083, 0.32173297811027946, 0.2412997335827096, 0.4825994671654192, 0.9369510619067105, 0.8421468219643897, 0.9210052464374646, 0.9675051321713933, 0.3200033072179891, 0.19200198433079346, 0.48000496082698363, 0.3697265183238732, 0.6162108638731221, 0.7774387034113363, 0.9000372813140559, 0.9242181258304294, 0.7987981615134757, 0.15975963230269513, 0.9084812820421305, 0.3077221972847431, 0.692374943890672, 0.7766453260348891, 0.9661988692630903, 0.21277297766421974, 0.6028567700486226, 0.21277297766421974, 0.3980920544989317, 0.1592368217995727, 0.47771046539871803, 0.2900247935332865, 0.6767245182443352, 0.8539932518811884, 0.985165154119642, 0.7577514412477835, 0.7536611924493277, 0.9226806593686332, 0.09226806593686332, 0.8424705612580531, 0.8576805735986885, 0.9232041911802206, 0.9234311736585428, 0.05596552567627532, 0.29945676480105615, 0.7186962355225348, 0.8713897959878304, 0.2670573918171721, 0.7121530448457922, 0.9264644514130915, 0.902710403610788, 0.7803198170350305, 0.057096571978172965, 0.1522575252751279, 0.9101157908886527, 0.8856926914797889, 0.05904617943198593, 0.8266918141443654, 0.8264242589415898, 0.05509495059610599, 0.16528485178831795, 0.957195292159043, 0.7800111727812897, 0.6392855141745148, 0.23973206781544304, 0.07991068927181436, 0.9114000495601101, 0.23932287964653462, 0.7179686389396038, 0.9331303262421845, 0.7334106009445062, 0.24447020031483538, 0.8291018469383564, 0.7642230863765402, 0.18353075832530263, 0.8258884124638619, 0.9155412188212159, 0.9101006009124847, 0.870339378654617, 0.5580930868396751, 0.13952327170991877, 0.27904654341983753, 0.7952287790984153, 0.15904575581968305, 0.7579922329652776, 0.7617946656755598, 0.8546169886335032, 0.8025721235645052, 0.9444865530167039, 0.8005800475183069, 0.8628314809357089, 0.2594044071142439, 0.5188088142284878, 0.12970220355712195, 0.27886052787451254, 0.7126435712348654, 0.030984503097168062, 0.4153847986669122, 0.47647079847086987, 0.10995479964712382, 0.3709106792575322, 0.6490936887006813, 0.8216703662355815, 0.10270879577944769, 0.6627887888686049, 0.885904708277224, 0.5469790124089347, 0.1989014590577944, 0.1989014590577944, 0.3309721656787558, 0.45508672780828924, 0.2068576035492224, 0.5739941896689592, 0.2869970948344796, 0.17219825690068774, 0.22703669941355503, 0.7567889980451835, 0.22240234216152, 0.66720702648456, 0.3445004811684554, 0.6028758420447969, 0.08612512029211385, 0.8491472474620421, 0.847784111482344, 0.36001805465993936, 0.6480324983878909, 0.9740006737804845, 0.926450694807369, 0.9214782507100073, 0.5830178797109016, 0.1714758469737946, 0.2743613551580713, 0.8745888162581372, 0.39728614295046294, 0.6027789755110472, 0.8697976508981418, 0.9347513638373156], \"Term\": [\"achieve\", \"adapt\", \"add\", \"agile\", \"ahead\", \"also\", \"also\", \"also\", \"always\", \"application\", \"application\", \"area\", \"area\", \"area\", \"awesome\", \"awesome\", \"bad\", \"build\", \"business\", \"business\", \"challenge\", \"challenge\", \"challenge\", \"change\", \"change\", \"cloud\", \"collaboration\", \"come\", \"complete\", \"concern\", \"concern\", \"concern\", \"confident\", \"control\", \"conversation\", \"could\", \"definitely\", \"definitely\", \"demand\", \"difference\", \"difficult\", \"direction\", \"direction\", \"do\", \"do\", \"drive\", \"due\", \"due\", \"enjoy\", \"even\", \"execute\", \"external\", \"face\", \"fairly\", \"fall\", \"feel\", \"feel\", \"fun\", \"fun\", \"future\", \"future\", \"future\", \"generally\", \"get\", \"get\", \"glad\", \"go\", \"goal\", \"good\", \"good\", \"good\", \"great\", \"great\", \"great\", \"green\", \"growth\", \"hard\", \"health\", \"health\", \"health\", \"healthy\", \"healthy\", \"help\", \"help\", \"help\", \"helpful\", \"however\", \"impact\", \"improve\", \"improvement\", \"improvement\", \"improvement\", \"issue\", \"issue\", \"job\", \"keep\", \"know\", \"lead\", \"lead\", \"leadership\", \"learn\", \"learn\", \"level\", \"look\", \"lot\", \"lot\", \"lot\", \"make\", \"make\", \"make\", \"many\", \"many\", \"mature\", \"may\", \"meeting\", \"member\", \"mission\", \"mission\", \"month\", \"much\", \"nee\", \"need\", \"need\", \"new\", \"new\", \"open\", \"opportunity\", \"opportunity\", \"optimistic\", \"organization\", \"overall\", \"overall\", \"overall\", \"point\", \"positive\", \"positive\", \"problem\", \"process\", \"process\", \"process\", \"product\", \"project\", \"projectx\", \"projectx\", \"projectx\", \"proud\", \"provide\", \"provide\", \"question\", \"right\", \"right\", \"right_direction\", \"rock\", \"room\", \"room\", \"say\", \"scale\", \"scope\", \"see\", \"see\", \"see\", \"seem\", \"seem\", \"set\", \"share\", \"solid\", \"solution\", \"speed\", \"stay\", \"still\", \"strong\", \"strong\", \"strong\", \"support\", \"support\", \"support\", \"team\", \"team\", \"team\", \"team_member\", \"team_member\", \"teamwork\", \"teamwork\", \"technology\", \"term\", \"thing\", \"thing\", \"thing\", \"think\", \"think\", \"think\", \"time\", \"time\", \"time\", \"together\", \"together\", \"training\", \"training\", \"trend\", \"trend\", \"trend\", \"unknown\", \"valuable\", \"value\", \"value\", \"vision\", \"want\", \"way\", \"well\", \"well\", \"well\", \"willing\", \"work\", \"work\", \"works_well\", \"would\"]}, \"R\": 30, \"lambda.step\": 0.01, \"plot.opts\": {\"xlab\": \"PC1\", \"ylab\": \"PC2\"}, \"topic.order\": [3, 2, 1]};\n",
       "\n",
       "function LDAvis_load_lib(url, callback){\n",
       "  var s = document.createElement('script');\n",
       "  s.src = url;\n",
       "  s.async = true;\n",
       "  s.onreadystatechange = s.onload = callback;\n",
       "  s.onerror = function(){console.warn(\"failed to load library \" + url);};\n",
       "  document.getElementsByTagName(\"head\")[0].appendChild(s);\n",
       "}\n",
       "\n",
       "if(typeof(LDAvis) !== \"undefined\"){\n",
       "   // already loaded: just create the visualization\n",
       "   !function(LDAvis){\n",
       "       new LDAvis(\"#\" + \"ldavis_el148442261293312480625656813\", ldavis_el148442261293312480625656813_data);\n",
       "   }(LDAvis);\n",
       "}else if(typeof define === \"function\" && define.amd){\n",
       "   // require.js is available: use it to load d3/LDAvis\n",
       "   require.config({paths: {d3: \"https://d3js.org/d3.v5\"}});\n",
       "   require([\"d3\"], function(d3){\n",
       "      window.d3 = d3;\n",
       "      LDAvis_load_lib(\"https://cdn.jsdelivr.net/gh/bmabey/pyLDAvis@3.3.1/pyLDAvis/js/ldavis.v3.0.0.js\", function(){\n",
       "        new LDAvis(\"#\" + \"ldavis_el148442261293312480625656813\", ldavis_el148442261293312480625656813_data);\n",
       "      });\n",
       "    });\n",
       "}else{\n",
       "    // require.js not available: dynamically load d3 & LDAvis\n",
       "    LDAvis_load_lib(\"https://d3js.org/d3.v5.js\", function(){\n",
       "         LDAvis_load_lib(\"https://cdn.jsdelivr.net/gh/bmabey/pyLDAvis@3.3.1/pyLDAvis/js/ldavis.v3.0.0.js\", function(){\n",
       "                 new LDAvis(\"#\" + \"ldavis_el148442261293312480625656813\", ldavis_el148442261293312480625656813_data);\n",
       "            })\n",
       "         });\n",
       "}\n",
       "</script>"
      ],
      "text/plain": [
       "PreparedData(topic_coordinates=              x         y  topics  cluster       Freq\n",
       "topic                                                \n",
       "2      0.002090 -0.116565       1        1  43.337619\n",
       "1     -0.120114  0.056748       2        1  36.885054\n",
       "0      0.118024  0.059817       3        1  19.777327, topic_info=            Term       Freq      Total Category  logprob  loglift\n",
       "87          need  35.000000  35.000000  Default  30.0000  30.0000\n",
       "33          work  72.000000  72.000000  Default  29.0000  29.0000\n",
       "83       improve  27.000000  27.000000  Default  28.0000  28.0000\n",
       "114  improvement  31.000000  31.000000  Default  27.0000  27.0000\n",
       "71         great  51.000000  51.000000  Default  26.0000  26.0000\n",
       "..           ...        ...        ...      ...      ...      ...\n",
       "101          lot   5.632992  28.199070   Topic3  -4.7587   0.0100\n",
       "316          see   4.355753  14.334526   Topic3  -5.0159   0.4295\n",
       "136        thing   4.191725  20.110461   Topic3  -5.0543   0.0525\n",
       "71         great   4.478405  51.442628   Topic3  -4.9881  -0.8206\n",
       "189    challenge   3.211610   7.012372   Topic3  -5.3206   0.8397\n",
       "\n",
       "[186 rows x 6 columns], token_table=      Topic      Freq        Term\n",
       "term                             \n",
       "393       2  0.936953     achieve\n",
       "13        1  0.838980       adapt\n",
       "351       1  0.978801         add\n",
       "70        1  0.958504       agile\n",
       "286       2  0.985785       ahead\n",
       "...     ...       ...         ...\n",
       "112       2  0.874589     willing\n",
       "33        1  0.397286        work\n",
       "33        2  0.602779        work\n",
       "125       2  0.869798  works_well\n",
       "210       3  0.934751       would\n",
       "\n",
       "[216 rows x 3 columns], R=30, lambda_step=0.01, plot_opts={'xlab': 'PC1', 'ylab': 'PC2'}, topic_order=[3, 2, 1])"
      ]
     },
     "execution_count": 11,
     "metadata": {},
     "output_type": "execute_result"
    }
   ],
   "source": [
    "# Retrain LDA model\n",
    "lda_model = gensim.models.ldamodel.LdaModel(corpus=corpus,\n",
    "                                           id2word=id2word,\n",
    "                                           num_topics=3, # change this number and re-run as needed\n",
    "                                           random_state=100,\n",
    "                                           update_every=1,\n",
    "                                           chunksize=100,\n",
    "                                           passes=10,\n",
    "                                           alpha='auto',\n",
    "                                           per_word_topics=True)\n",
    "\n",
    "# Regenerate model performance metrics\n",
    "print('\\nPerplexity: ', lda_model.log_perplexity(corpus)) \n",
    "\n",
    "coherence_model_lda = CoherenceModel(model=lda_model, texts=data_lemmatized, dictionary=id2word, coherence='c_v')\n",
    "coherence_lda = coherence_model_lda.get_coherence()\n",
    "print('\\nCoherence Score: ', coherence_lda)\n",
    "\n",
    "# Recereate topic visualization\n",
    "pyLDAvis.enable_notebook()\n",
    "vis = gensimvis.prepare(lda_model, corpus, id2word)\n",
    "vis"
   ]
  },
  {
   "cell_type": "code",
   "execution_count": 12,
   "id": "3346c1e4",
   "metadata": {},
   "outputs": [
    {
     "name": "stderr",
     "output_type": "stream",
     "text": [
      "C:\\Users\\mhatres\\Anaconda3\\lib\\site-packages\\ipykernel\\ipkernel.py:287: DeprecationWarning: `should_run_async` will not call `transform_cell` automatically in the future. Please pass the result to `transformed_cell` argument and any exception that happen during thetransform in `preprocessing_exc_tuple` in IPython 7.17 and above.\n",
      "  and should_run_async(code)\n"
     ]
    },
    {
     "name": "stdout",
     "output_type": "stream",
     "text": [
      "\n",
      "Perplexity:  -6.253643478957044\n",
      "\n",
      "Coherence Score:  0.2746278209316812\n"
     ]
    },
    {
     "data": {
      "text/html": [
       "\n",
       "<link rel=\"stylesheet\" type=\"text/css\" href=\"https://cdn.jsdelivr.net/gh/bmabey/pyLDAvis@3.3.1/pyLDAvis/js/ldavis.v1.0.0.css\">\n",
       "\n",
       "\n",
       "<div id=\"ldavis_el1484422612081136644698611142\"></div>\n",
       "<script type=\"text/javascript\">\n",
       "\n",
       "var ldavis_el1484422612081136644698611142_data = {\"mdsDat\": {\"x\": [-0.043298976137222174, -0.06330285875172334, -0.07992742994674602, 0.18652926483569152], \"y\": [-0.10163022017389206, -0.05494214307123719, 0.13917386103008325, 0.01739850221504588], \"topics\": [1, 2, 3, 4], \"cluster\": [1, 1, 1, 1], \"Freq\": [32.66974336910261, 28.00818728716387, 25.697506747445658, 13.624562596287856]}, \"tinfo\": {\"Term\": [\"work\", \"always\", \"support\", \"overall\", \"improvement\", \"come\", \"well\", \"people\", \"fun\", \"see\", \"also\", \"issue\", \"way\", \"agile\", \"projectx\", \"would\", \"together\", \"need\", \"high\", \"great\", \"definitely\", \"however\", \"good\", \"feel\", \"generally\", \"new\", \"session\", \"continue\", \"room\", \"improve\", \"way\", \"know\", \"concern\", \"keep\", \"direction\", \"point\", \"internal\", \"long\", \"ahead\", \"understanding\", \"term\", \"future\", \"many\", \"pain\", \"dimension\", \"path\", \"fairly\", \"bad\", \"face\", \"execute\", \"scale\", \"adapt\", \"feel_like\", \"question\", \"overcome\", \"clarity\", \"glad\", \"short\", \"constraint\", \"break\", \"still\", \"address\", \"healthy\", \"product\", \"provide\", \"think\", \"good\", \"green\", \"overall\", \"help\", \"feel\", \"discussion\", \"improvement\", \"grow\", \"team\", \"strong\", \"challenge\", \"need\", \"look\", \"health\", \"area\", \"improve\", \"time\", \"yellow\", \"great\", \"lot\", \"work\", \"thing\", \"positive\", \"value\", \"agile\", \"high\", \"definitely\", \"projectx\", \"much\", \"share\", \"control\", \"leadership\", \"cloud\", \"level\", \"knowledge\", \"add\", \"feeling\", \"function\", \"communication\", \"factor\", \"affect\", \"principle\", \"far\", \"influence\", \"consider\", \"define\", \"environment\", \"gel\", \"remain\", \"enjoy_worke\", \"reorg\", \"part\", \"difficulty\", \"outside\", \"well\", \"take\", \"new\", \"impact\", \"happy\", \"team\", \"seem\", \"need\", \"improve\", \"overall\", \"awesome\", \"process\", \"good\", \"go\", \"team_member\", \"positive\", \"feel\", \"work\", \"area\", \"lot\", \"green\", \"business\", \"time\", \"thing\", \"look\", \"support\", \"great\", \"always\", \"do\", \"group\", \"goal\", \"open\", \"willing\", \"difficult\", \"drive\", \"plan\", \"right_direction\", \"works_well\", \"enjoy\", \"member\", \"form\", \"valuable\", \"together\", \"resource\", \"honest\", \"result\", \"mature\", \"involved\", \"achieve\", \"issue\", \"hard\", \"care\", \"less\", \"solid\", \"fun\", \"experiment\", \"try\", \"support\", \"work\", \"great\", \"even\", \"team\", \"trust\", \"due\", \"value\", \"lot\", \"learn\", \"get\", \"feel\", \"trend\", \"good\", \"opportunity\", \"new\", \"think\", \"business\", \"collaboration\", \"strong\", \"people\", \"come\", \"also\", \"however\", \"generally\", \"could\", \"experience\", \"stay\", \"score\", \"month\", \"bring\", \"say\", \"confident\", \"technology\", \"start\", \"rock\", \"complete\", \"unknown\", \"use\", \"upwards\", \"model\", \"difference\", \"entire\", \"push\", \"previous\", \"nearly\", \"uncertainty\", \"would_like\", \"tight\", \"demand\", \"lead\", \"see\", \"progress\", \"session\", \"would\", \"training\", \"continue\", \"room\", \"improvement\", \"big\", \"large\", \"make\", \"team\", \"well\", \"great\", \"yellow\", \"thing\", \"think\", \"process\", \"area\", \"health\"], \"Freq\": [72.0, 15.0, 32.0, 52.0, 31.0, 9.0, 28.0, 8.0, 18.0, 13.0, 7.0, 16.0, 14.0, 12.0, 12.0, 10.0, 13.0, 34.0, 10.0, 51.0, 10.0, 5.0, 98.0, 65.0, 5.0, 16.0, 7.0, 9.0, 11.0, 27.0, 13.776718651536257, 8.395944313082436, 7.58416059171294, 5.92338535726173, 9.739581805057139, 4.87692215174805, 4.65951378021938, 4.562883963926982, 4.541957549285047, 4.541552864153994, 4.0197603944755596, 8.66019309393711, 9.08731627248051, 3.7752239728696635, 3.569842732286396, 3.441079855616184, 3.440072437200056, 3.4354705963558727, 3.2139330218607967, 3.140487217598732, 3.1889946164252447, 2.9916416518407143, 3.2006483861823236, 3.63711115190754, 2.952870694341388, 2.940672544773187, 2.6785194367320027, 2.5816748998644514, 2.5516688362428557, 2.418926555783962, 4.225461947634466, 5.3554595404806475, 10.66348250627369, 7.9754724201199405, 6.304058665313463, 15.37702857202448, 48.86966325551296, 12.489302584509756, 28.320245400158097, 9.091948174205216, 32.58609148834239, 5.503642503804988, 16.637214028322564, 6.67056193107977, 70.45288237037099, 9.14578190635772, 5.409290746508739, 15.305310889473734, 8.19583332586318, 9.778435619437229, 11.44964879996527, 11.62695343075402, 9.037858798262057, 6.227010860250103, 12.371411389478185, 9.45610012336738, 12.246848194645517, 7.294045812538054, 6.531361360945167, 6.311636028104379, 11.513420791480737, 10.065666347107726, 9.6751858239624, 11.56651716805618, 5.067500924232748, 4.547595979932032, 4.23880485543034, 5.676561660887697, 4.337041771495931, 4.396181257773791, 3.6503839025726674, 3.3775698980611, 3.127523889755269, 3.1269761896249144, 2.912957328486002, 2.902311068814946, 2.898773649309524, 2.813655981364383, 2.8780244987404684, 2.8710135472497726, 2.5771389675794105, 2.5702648869793374, 2.3853624924381007, 2.297695604155117, 2.344139882192018, 2.5406065675836595, 2.2852199957291757, 4.608539043388853, 2.0510858781617953, 2.3098337998475307, 20.145764776732978, 4.327712894147116, 10.440977590723373, 5.208855635930241, 7.582812798330779, 85.950795858731, 7.701221711605445, 17.24382815375646, 13.990099557293401, 22.62755800924333, 5.518189912637124, 9.5572412321901, 34.100817589583905, 8.077197385430631, 6.427230060506352, 8.50273071691865, 19.9173393880846, 19.601661405478804, 8.235278066470768, 7.961576999984533, 6.689682158953488, 6.179422714220084, 6.274966825453398, 6.211382933451878, 5.703951865034184, 6.710963416766625, 7.058178878131912, 14.66187006912116, 7.116409512067707, 5.855259976530274, 5.550297691498585, 5.173956054604133, 5.144931405534463, 4.7306041029227694, 5.004045657215383, 4.440014654340267, 4.224005630355293, 4.0191663830749755, 3.4029787582257676, 3.3917076440229907, 3.3715418792988636, 2.964687919122129, 10.971903913618652, 4.181877446675647, 2.9209580068692405, 2.857088359720173, 2.9099664649406916, 2.819790795485271, 2.62851189636038, 13.187454775283182, 3.6218478840694743, 3.2625812182064586, 2.526496430506845, 2.8341769448998964, 14.64490577453375, 2.3585066767589526, 5.512109350785102, 22.33076605731726, 40.43200537894042, 26.266997434528047, 4.2942933190520245, 75.28365437742978, 4.420559444308847, 5.1329513262467925, 7.211344069915282, 11.584595990885616, 6.769100074880041, 6.431030630511242, 13.3138890015663, 5.571203816061926, 13.443397529361041, 5.230533375908022, 5.696596849227094, 5.811621268025694, 4.751137861855759, 4.551802234228295, 4.522392502665765, 7.839260072069459, 8.324649726938102, 7.107906812232443, 5.145345759820256, 4.553255823362502, 3.8416028793327377, 3.4113296513272293, 3.003625821485628, 2.782639477879509, 2.8390380055093507, 2.973428292482301, 2.583896371059012, 2.381346994665703, 2.3102933283623486, 1.9484906022559492, 1.9385361485627557, 2.3469991253332716, 1.6920739254408237, 1.6834925942943237, 1.676643521398191, 1.6650888121054672, 1.664222208908513, 1.6514388109352545, 1.5139126972226324, 1.5137762699019353, 1.5137760592033704, 1.504621733309942, 1.7920292192248044, 1.4359251518508203, 1.6200379824284492, 3.7618846559497943, 7.803332595596846, 2.507116971257668, 4.4230428461349485, 5.642642833379071, 2.789130468564792, 4.951951446765352, 4.871124106137389, 9.561151110254894, 2.5114396630127653, 2.3838254418832503, 4.482706358724674, 13.98691913162675, 4.851778185316102, 5.383969890982962, 2.9894900547743073, 3.4535195105423355, 3.1578213521510916, 3.0045406746539176, 3.0836196385913084, 2.8156909189428276], \"Total\": [72.0, 15.0, 32.0, 52.0, 31.0, 9.0, 28.0, 8.0, 18.0, 13.0, 7.0, 16.0, 14.0, 12.0, 12.0, 10.0, 13.0, 34.0, 10.0, 51.0, 10.0, 5.0, 98.0, 65.0, 5.0, 16.0, 7.0, 9.0, 11.0, 27.0, 14.380250087060828, 8.97619291190965, 8.177878842861489, 6.524798117941708, 10.866375022668251, 5.476072636317202, 5.250044134221986, 5.159540764879865, 5.15242679690948, 5.159120983157661, 4.590897045084347, 9.963442245016452, 10.469453011868474, 4.36244986897466, 4.138540932544139, 4.043740290536119, 4.045202546812229, 4.040324100438084, 3.793817822590918, 3.7309510689459686, 3.7895806542547588, 3.5682608471288964, 3.818828044199182, 4.346097874195618, 3.566804259704658, 3.567071858980369, 3.2523419746713356, 3.161734506304554, 3.1566132217088603, 2.9981906526163433, 5.295856169397615, 6.798299228703259, 14.154085531248393, 10.403599806155562, 8.43005794214085, 24.577431588921357, 98.54723758304335, 19.57754220536367, 52.9962581170083, 13.537619887427018, 65.99601211926937, 7.4355322548327765, 31.95133536563531, 9.74944970458748, 245.67425173815852, 15.574901798362745, 7.5185096944743615, 34.98859087645637, 14.27381839373985, 19.16328085709972, 24.87226964920655, 27.418486175497794, 17.865614157378328, 9.645093980881098, 51.08055759312111, 29.183568694305443, 72.45145446130034, 19.932862259404896, 16.54895150215991, 13.901790756633577, 12.135719804481308, 10.680992135782871, 10.283710418798044, 12.442438494564186, 5.673087377529866, 5.146490678473646, 4.814484713776401, 6.44873300090352, 4.945615222250498, 5.033124060064042, 4.259322628082033, 3.9784056495737166, 3.708359584812507, 3.708298460382418, 3.488558072239727, 3.488670696383873, 3.4886323990731936, 3.400494863879004, 3.4827311892542996, 3.4881056718806533, 3.1776020682575012, 3.181564173335549, 2.9614023830518974, 2.873750968724604, 2.932452542386478, 3.1817758384773076, 2.8715492642454614, 5.874171978546136, 2.628108024206821, 2.9619308869572247, 28.91697482547424, 5.9048582641435186, 16.5375596650861, 7.424552449676023, 11.943865693028854, 245.67425173815852, 12.682123078195675, 34.98859087645637, 27.418486175497794, 52.9962581170083, 8.365429569167945, 17.593094712571656, 98.54723758304335, 14.551556049677405, 10.654824647611955, 16.54895150215991, 65.99601211926937, 72.45145446130034, 24.87226964920655, 29.183568694305443, 19.57754220536367, 16.90018042158007, 17.865614157378328, 19.932862259404896, 14.27381839373985, 32.188197780755914, 51.08055759312111, 15.242356100233835, 7.824749637995578, 6.4416824595572635, 6.1680909044632175, 5.750417753129761, 5.724258901606845, 5.32267175774357, 5.635389472454912, 5.07425905806825, 4.828782587206913, 4.606357181835354, 3.98617536477235, 3.985078125771866, 3.9839812036183297, 3.5420250621295786, 13.139964379400316, 5.033103576335457, 3.5157453121498246, 3.449974943442383, 3.5154444634016957, 3.422611693776738, 3.205465313954349, 16.087495304877873, 4.419061824977177, 3.984295975765659, 3.116832425201997, 3.5158513831446156, 18.20659315170895, 2.9549128277123815, 6.93948413365212, 32.188197780755914, 72.45145446130034, 51.08055759312111, 5.9852618504749735, 245.67425173815852, 6.334110974605689, 8.153694625473081, 13.901790756633577, 29.183568694305443, 12.923066098965492, 12.001698019947838, 65.99601211926937, 11.17463505667329, 98.54723758304335, 11.29141852755201, 16.5375596650861, 24.577431588921357, 16.90018042158007, 11.206467081175472, 15.574901798362745, 8.477044297493311, 9.026447622671853, 7.832737440280437, 5.777539165278268, 5.191195683885106, 4.480801838389045, 4.043512786332527, 3.664729332423451, 3.403159370273234, 3.4787864736617684, 3.670908642690125, 3.199336222905277, 3.0227707472267245, 2.9493331343627887, 2.5602652911465236, 2.5625475429684403, 3.1935047954124505, 2.3068039648525014, 2.3086754168326054, 2.3102732880630446, 2.312257219214891, 2.3133065057119673, 2.315673023879967, 2.124539685896591, 2.124609836457884, 2.124609641585797, 2.126397312334388, 2.533715077441527, 2.0533027279988616, 2.323438718138492, 5.589135151307269, 13.293869181394019, 3.795040014535462, 7.447938154858849, 10.103287090259656, 4.404203346474178, 9.879564403955417, 11.431370043098223, 31.95133536563531, 4.321269479290977, 4.0436492135100695, 12.533402920147342, 245.67425173815852, 28.91697482547424, 51.08055759312111, 9.645093980881098, 19.932862259404896, 24.577431588921357, 17.593094712571656, 24.87226964920655, 19.16328085709972], \"Category\": [\"Default\", \"Default\", \"Default\", \"Default\", \"Default\", \"Default\", \"Default\", \"Default\", \"Default\", \"Default\", \"Default\", \"Default\", \"Default\", \"Default\", \"Default\", \"Default\", \"Default\", \"Default\", \"Default\", \"Default\", \"Default\", \"Default\", \"Default\", \"Default\", \"Default\", \"Default\", \"Default\", \"Default\", \"Default\", \"Default\", \"Topic1\", \"Topic1\", \"Topic1\", \"Topic1\", \"Topic1\", \"Topic1\", \"Topic1\", \"Topic1\", \"Topic1\", \"Topic1\", \"Topic1\", \"Topic1\", \"Topic1\", \"Topic1\", \"Topic1\", \"Topic1\", \"Topic1\", \"Topic1\", \"Topic1\", \"Topic1\", \"Topic1\", \"Topic1\", \"Topic1\", \"Topic1\", \"Topic1\", \"Topic1\", \"Topic1\", \"Topic1\", \"Topic1\", \"Topic1\", \"Topic1\", \"Topic1\", \"Topic1\", \"Topic1\", \"Topic1\", \"Topic1\", \"Topic1\", \"Topic1\", \"Topic1\", \"Topic1\", \"Topic1\", \"Topic1\", \"Topic1\", \"Topic1\", \"Topic1\", \"Topic1\", \"Topic1\", \"Topic1\", \"Topic1\", \"Topic1\", \"Topic1\", \"Topic1\", \"Topic1\", \"Topic1\", \"Topic1\", \"Topic1\", \"Topic1\", \"Topic1\", \"Topic1\", \"Topic1\", \"Topic2\", \"Topic2\", \"Topic2\", \"Topic2\", \"Topic2\", \"Topic2\", \"Topic2\", \"Topic2\", \"Topic2\", \"Topic2\", \"Topic2\", \"Topic2\", \"Topic2\", \"Topic2\", \"Topic2\", \"Topic2\", \"Topic2\", \"Topic2\", \"Topic2\", \"Topic2\", \"Topic2\", \"Topic2\", \"Topic2\", \"Topic2\", \"Topic2\", \"Topic2\", \"Topic2\", \"Topic2\", \"Topic2\", \"Topic2\", \"Topic2\", \"Topic2\", \"Topic2\", \"Topic2\", \"Topic2\", \"Topic2\", \"Topic2\", \"Topic2\", \"Topic2\", \"Topic2\", \"Topic2\", \"Topic2\", \"Topic2\", \"Topic2\", \"Topic2\", \"Topic2\", \"Topic2\", \"Topic2\", \"Topic2\", \"Topic2\", \"Topic2\", \"Topic2\", \"Topic2\", \"Topic2\", \"Topic2\", \"Topic2\", \"Topic2\", \"Topic3\", \"Topic3\", \"Topic3\", \"Topic3\", \"Topic3\", \"Topic3\", \"Topic3\", \"Topic3\", \"Topic3\", \"Topic3\", \"Topic3\", \"Topic3\", \"Topic3\", \"Topic3\", \"Topic3\", \"Topic3\", \"Topic3\", \"Topic3\", \"Topic3\", \"Topic3\", \"Topic3\", \"Topic3\", \"Topic3\", \"Topic3\", \"Topic3\", \"Topic3\", \"Topic3\", \"Topic3\", \"Topic3\", \"Topic3\", \"Topic3\", \"Topic3\", \"Topic3\", \"Topic3\", \"Topic3\", \"Topic3\", \"Topic3\", \"Topic3\", \"Topic3\", \"Topic3\", \"Topic3\", \"Topic3\", \"Topic3\", \"Topic3\", \"Topic3\", \"Topic3\", \"Topic3\", \"Topic3\", \"Topic3\", \"Topic3\", \"Topic4\", \"Topic4\", \"Topic4\", \"Topic4\", \"Topic4\", \"Topic4\", \"Topic4\", \"Topic4\", \"Topic4\", \"Topic4\", \"Topic4\", \"Topic4\", \"Topic4\", \"Topic4\", \"Topic4\", \"Topic4\", \"Topic4\", \"Topic4\", \"Topic4\", \"Topic4\", \"Topic4\", \"Topic4\", \"Topic4\", \"Topic4\", \"Topic4\", \"Topic4\", \"Topic4\", \"Topic4\", \"Topic4\", \"Topic4\", \"Topic4\", \"Topic4\", \"Topic4\", \"Topic4\", \"Topic4\", \"Topic4\", \"Topic4\", \"Topic4\", \"Topic4\", \"Topic4\", \"Topic4\", \"Topic4\", \"Topic4\", \"Topic4\", \"Topic4\", \"Topic4\", \"Topic4\", \"Topic4\", \"Topic4\", \"Topic4\", \"Topic4\"], \"logprob\": [30.0, 29.0, 28.0, 27.0, 26.0, 25.0, 24.0, 23.0, 22.0, 21.0, 20.0, 19.0, 18.0, 17.0, 16.0, 15.0, 14.0, 13.0, 12.0, 11.0, 10.0, 9.0, 8.0, 7.0, 6.0, 5.0, 4.0, 3.0, 2.0, 1.0, -4.3663, -4.8616, -4.9632, -5.2104, -4.7131, -5.4048, -5.4504, -5.4713, -5.4759, -5.476, -5.5981, -4.8306, -4.7824, -5.6608, -5.7168, -5.7535, -5.7538, -5.7551, -5.8218, -5.8449, -5.8296, -5.8935, -5.8259, -5.6981, -5.9065, -5.9107, -6.004, -6.0409, -6.0526, -6.106, -5.5482, -5.3112, -4.6225, -4.9129, -5.1481, -4.2564, -3.1001, -4.4644, -3.6457, -4.7819, -3.5054, -5.2839, -4.1777, -5.0916, -2.7344, -4.776, -5.3012, -4.2611, -4.8857, -4.7091, -4.5513, -4.536, -4.7879, -5.1604, -4.4739, -4.7426, -4.484, -5.0022, -5.1127, -5.1469, -4.3918, -4.5262, -4.5658, -4.3872, -5.2125, -5.3207, -5.3911, -5.099, -5.3682, -5.3546, -5.5405, -5.6182, -5.6951, -5.6953, -5.7662, -5.7698, -5.7711, -5.8009, -5.7782, -5.7807, -5.8887, -5.8913, -5.966, -6.0034, -5.9834, -5.9029, -6.0089, -5.3074, -6.117, -5.9982, -3.8324, -5.3703, -4.4896, -5.185, -4.8095, -2.3816, -4.794, -3.9879, -4.197, -3.7162, -5.1273, -4.578, -3.306, -4.7463, -4.9748, -4.695, -3.8438, -3.8597, -4.7269, -4.7607, -4.9348, -5.0141, -4.9988, -5.009, -5.0942, -4.9316, -4.8812, -4.064, -4.7868, -4.9819, -5.0354, -5.1056, -5.1112, -5.1952, -5.139, -5.2586, -5.3085, -5.3582, -5.5246, -5.5279, -5.5339, -5.6625, -4.3539, -5.3185, -5.6773, -5.6994, -5.6811, -5.7126, -5.7828, -4.17, -5.4623, -5.5667, -5.8224, -5.7075, -4.0652, -5.8912, -5.0423, -3.6433, -3.0496, -3.4809, -5.292, -2.428, -5.263, -5.1136, -4.7736, -4.2996, -4.8369, -4.8881, -4.1604, -5.0316, -4.1508, -5.0947, -5.0094, -4.9894, -5.1909, -5.2337, -5.2402, -4.0556, -3.9955, -4.1535, -4.4766, -4.5989, -4.7688, -4.8876, -5.0149, -5.0913, -5.0713, -5.025, -5.1654, -5.2471, -5.2774, -5.4477, -5.4528, -5.2616, -5.5888, -5.5939, -5.5979, -5.6048, -5.6054, -5.6131, -5.7, -5.7001, -5.7001, -5.7062, -5.5314, -5.7529, -5.6323, -4.7898, -4.0602, -5.1956, -4.6279, -4.3844, -5.089, -4.5149, -4.5314, -3.857, -5.1939, -5.246, -4.6145, -3.4766, -4.5354, -4.4313, -5.0196, -4.8753, -4.9648, -5.0146, -4.9886, -5.0795], \"loglift\": [30.0, 29.0, 28.0, 27.0, 26.0, 25.0, 24.0, 23.0, 22.0, 21.0, 20.0, 19.0, 18.0, 17.0, 16.0, 15.0, 14.0, 13.0, 12.0, 11.0, 10.0, 9.0, 8.0, 7.0, 6.0, 5.0, 4.0, 3.0, 2.0, 1.0, 1.0758, 1.0519, 1.0433, 1.022, 1.0092, 1.0028, 0.9994, 0.9958, 0.9926, 0.9912, 0.9859, 0.9785, 0.9771, 0.9741, 0.9709, 0.9573, 0.9567, 0.9565, 0.9528, 0.9464, 0.9462, 0.9425, 0.9421, 0.9406, 0.9298, 0.9256, 0.9246, 0.916, 0.906, 0.904, 0.8929, 0.8802, 0.8355, 0.8529, 0.8281, 0.6498, 0.4173, 0.6692, 0.4921, 0.7206, 0.413, 0.8179, 0.4661, 0.7392, -0.1303, 0.5864, 0.7895, 0.2919, 0.5639, 0.4459, 0.3429, 0.2608, 0.4373, 0.6812, -0.2993, -0.0082, -0.6589, 0.1134, 0.189, 0.3291, 1.22, 1.2133, 1.2117, 1.1997, 1.1598, 1.149, 1.1453, 1.1451, 1.1414, 1.1374, 1.1184, 1.1089, 1.1023, 1.1022, 1.0924, 1.0887, 1.0875, 1.0832, 1.082, 1.078, 1.0632, 1.0593, 1.0564, 1.049, 1.0488, 1.0476, 1.0443, 1.03, 1.0248, 1.024, 0.9112, 0.9619, 0.8128, 0.9182, 0.8183, 0.2224, 0.7739, 0.5651, 0.5998, 0.4216, 0.8566, 0.6625, 0.2115, 0.684, 0.7672, 0.6067, 0.0747, -0.0346, 0.1673, -0.0263, 0.1989, 0.2666, 0.2264, 0.1067, 0.3554, -0.2952, -0.7065, 1.3199, 1.2639, 1.2633, 1.2532, 1.2531, 1.2521, 1.2409, 1.24, 1.2253, 1.225, 1.2224, 1.2006, 1.1976, 1.1919, 1.1808, 1.1785, 1.1735, 1.1734, 1.1702, 1.1698, 1.165, 1.1603, 1.16, 1.1598, 1.1589, 1.1488, 1.1432, 1.1411, 1.1333, 1.1285, 0.9931, 0.7755, 0.6937, 1.0268, 0.176, 0.9991, 0.896, 0.7024, 0.4348, 0.7121, 0.7349, -0.242, 0.6627, -0.6333, 0.5892, 0.293, -0.0832, 0.0898, 0.4578, 0.1222, 1.9151, 1.9124, 1.8962, 1.8774, 1.8622, 1.8394, 1.8233, 1.7944, 1.792, 1.7901, 1.7826, 1.7797, 1.7548, 1.7491, 1.7202, 1.7142, 1.6853, 1.6834, 1.6775, 1.6727, 1.665, 1.664, 1.6552, 1.6544, 1.6543, 1.6543, 1.6474, 1.647, 1.6357, 1.6327, 1.5974, 1.4605, 1.5787, 1.4722, 1.4108, 1.5365, 1.3026, 1.1403, 0.7868, 1.4506, 1.4649, 0.9651, -0.8726, 0.2082, -0.2567, 0.8219, 0.2403, -0.0587, 0.2259, -0.0944, 0.0755]}, \"token.table\": {\"Topic\": [3, 1, 2, 1, 3, 2, 2, 1, 4, 3, 1, 2, 3, 4, 1, 2, 1, 2, 4, 1, 4, 1, 2, 3, 3, 1, 3, 4, 1, 2, 1, 3, 4, 2, 4, 1, 4, 2, 1, 2, 3, 4, 2, 4, 2, 2, 4, 4, 3, 2, 1, 1, 4, 1, 3, 3, 3, 2, 3, 3, 2, 4, 2, 3, 4, 1, 4, 3, 1, 2, 1, 2, 1, 2, 3, 1, 2, 3, 2, 3, 2, 1, 4, 2, 4, 2, 3, 1, 1, 2, 3, 1, 2, 3, 4, 1, 2, 3, 4, 1, 2, 3, 1, 3, 1, 2, 3, 3, 1, 2, 3, 4, 1, 3, 1, 3, 2, 3, 4, 1, 2, 1, 2, 3, 1, 2, 3, 4, 2, 1, 3, 2, 3, 1, 1, 2, 1, 4, 3, 4, 2, 1, 2, 3, 3, 2, 1, 1, 2, 1, 2, 3, 1, 2, 4, 1, 3, 3, 3, 4, 4, 2, 4, 1, 2, 4, 2, 3, 3, 1, 3, 2, 1, 2, 4, 1, 1, 1, 2, 1, 4, 3, 1, 1, 2, 4, 4, 2, 1, 2, 3, 4, 1, 2, 2, 4, 2, 1, 3, 4, 1, 2, 2, 3, 3, 3, 4, 1, 2, 4, 4, 1, 4, 1, 3, 4, 1, 2, 1, 4, 2, 1, 3, 4, 4, 1, 4, 1, 3, 4, 1, 2, 3, 2, 3, 1, 2, 3, 4, 2, 3, 4, 1, 1, 2, 3, 4, 1, 3, 4, 4, 1, 2, 3, 2, 3, 3, 4, 2, 3, 4, 1, 3, 2, 3, 4, 1, 4, 4, 4, 3, 1, 3, 1, 2, 3, 4, 3, 1, 2, 3, 3, 1, 4, 4, 1, 4], \"Freq\": [0.9359015637886029, 0.840745710172469, 0.7540709179119148, 0.7354780705870348, 0.14709561411740696, 0.859935830670206, 0.9888165014792785, 0.9704165041217261, 0.8936850051939668, 0.9840998269138905, 0.4422595989486191, 0.3216433446899048, 0.0804108361724762, 0.12061625425871429, 0.23907917500988857, 0.7172375250296658, 0.7425146907582777, 0.23141347809766252, 0.6942404342929875, 0.6670689865084859, 0.8172363553568394, 0.35502579560266223, 0.35502579560266223, 0.29585482966888516, 0.752956110250693, 0.6650254110431872, 0.13300508220863744, 0.13300508220863744, 0.8410259503035457, 0.8087972517562342, 0.5354051331733932, 0.446170944311161, 0.8862844315305491, 0.8599541523681552, 0.6262711748149087, 0.9782487798756324, 0.6616446192073688, 0.9441081468218918, 0.9503856789828447, 0.20243807502274827, 0.20243807502274827, 0.5060951875568707, 0.8308261917530251, 0.8926973662906047, 0.9429324183188809, 0.9724116678470994, 0.8607930927493422, 0.8645633404227423, 0.9393778590095965, 0.7610037264749085, 0.9665242087000523, 0.9202700973543695, 0.09202700973543694, 0.8069361808094179, 0.1344893634682363, 0.8945973128659935, 0.887250122540666, 0.36793136581638153, 0.6132189430273025, 0.7526011089507925, 0.9428696904794213, 0.8636797938980827, 0.6753557069603232, 0.6683082712049718, 0.16707706780124296, 0.8040845201562856, 0.7419291488678599, 0.6768389176300504, 0.7907601630568558, 0.8599263906190983, 0.7416192305040726, 0.8613929232483605, 0.5000302130432019, 0.303048613965577, 0.19698159907762502, 0.7855813263330917, 0.8089830372131183, 0.7530156008957425, 0.16477547309384494, 0.8238773654692247, 0.8089963717997567, 0.9033022703073981, 0.10036691892304422, 0.6959545283381384, 0.9631692397035562, 0.4166077159823199, 0.4999292591787839, 0.9224122258247963, 0.41232703770762813, 0.5497693836101709, 0.972748309474235, 0.4972234757844825, 0.34501220768719193, 0.13191643235098516, 0.020294835746305407, 0.234923042453554, 0.13703844143123983, 0.5089999253160337, 0.09788460102231417, 0.61294721646481, 0.35755254293780586, 0.931433680202296, 0.7179892416600948, 0.3077096749971835, 0.16744997402033063, 0.6697998960813225, 0.25117496103049597, 0.9051695039411807, 0.5218313124234749, 0.26091565621173746, 0.05218313124234749, 0.15654939372704246, 0.7771607692856578, 0.2119529370779067, 0.6648140570380984, 0.29547291423915484, 0.9362426142510255, 0.8533041314547173, 0.8654203557889998, 0.2693765063357148, 0.673441265839287, 0.43766092420972746, 0.5106044115780154, 0.07294348736828792, 0.5320591394838554, 0.15648798220113394, 0.03129759644022679, 0.3129759644022679, 0.860065686709117, 0.9523729462401861, 0.8765236224298644, 0.12432016060284923, 0.80808104391852, 0.9195686811368718, 0.8912464425074429, 0.9391164627041165, 0.2473013723987089, 0.4946027447974178, 0.17891855768885914, 0.7156742307554366, 0.9304153233137968, 0.15476203438749744, 0.3095240687749949, 0.5416671203562411, 0.9625156539513268, 0.7947350298273999, 0.9690784951316147, 0.5604667075986203, 0.4203500306989652, 0.30839271558163345, 0.2741268582947853, 0.41119028744217795, 0.3191471642206629, 0.3191471642206629, 0.3191471642206629, 0.8596437645593653, 0.09551597383992948, 0.853377156496755, 0.7528083277963171, 0.8649556733480909, 0.8623696863010399, 0.8813543080270806, 0.9413493946620759, 0.42871117767973377, 0.4858726680370316, 0.05716149035729784, 0.6046841373526156, 0.3628104824115694, 0.8695020457041867, 0.5313769908855558, 0.4428141590712965, 0.6752352017418574, 0.5283391883664679, 0.43399290472959856, 0.037738513454747706, 0.8410890482250374, 0.9169159807308344, 0.17023675909596045, 0.8511837954798023, 0.7418874073147412, 0.9437251616540007, 0.7882924293429322, 0.9130631260878649, 0.4229875227494857, 0.5438411006779101, 0.06042678896421224, 0.9413493083202367, 0.8822245349836663, 0.11368096589458147, 0.5684048294729074, 0.1705214488418722, 0.1705214488418722, 0.768964603508354, 0.1922411508770885, 0.2635018329635206, 0.7905054988905618, 0.9644411748744045, 0.7117388802284167, 0.23724629340947226, 0.9413803909038144, 0.9203658352356654, 0.6820229726113034, 0.6964881379200462, 0.7947382642406005, 0.8695715328896279, 0.8283661415192641, 0.780473324480533, 0.2624357350597073, 0.2624357350597073, 0.43739289176617885, 0.9376945062922264, 0.7916443199676314, 0.8815337965671396, 0.3008905793655894, 0.1504452896827947, 0.6017811587311788, 0.39425575427480913, 0.6308092068396947, 0.40279604067910724, 0.5370613875721431, 0.9715358119492228, 0.948846272202156, 0.8532783878130729, 0.781169047956109, 0.8186143444367632, 0.7553075219667429, 0.18882688049168572, 0.5778527605834466, 0.32102931143524815, 0.12841172457409925, 0.09320186300686846, 0.21747101368269306, 0.6834803287170353, 0.6774083002617486, 0.16935207506543715, 0.2849301443059101, 0.3500570344329753, 0.305282297470618, 0.05698602886118203, 0.5631251755367713, 0.3754167836911809, 0.6781193947533178, 0.8712894148395152, 0.3511788677863963, 0.3010104581026254, 0.1505052290513127, 0.1505052290513127, 0.6103160106754798, 0.2441264042701919, 0.12206320213509594, 0.4870202461448999, 0.5037610193928366, 0.3358406795952244, 0.11194689319840813, 0.15220741413389405, 0.8371407777364173, 0.22705581948221315, 0.6811674584466394, 0.26846514313757874, 0.5369302862751575, 0.17897676209171914, 0.31575070408748307, 0.6315014081749661, 0.1441029305262953, 0.8646175831577718, 0.9405579984506154, 0.9691573460523366, 0.8670004172321948, 0.8656984480294188, 0.8662976117898402, 0.8469731149209612, 0.43159907274082326, 0.5035322515309605, 0.9735574774597994, 0.6916352806857623, 0.13832705613715246, 0.17290882017144057, 0.8734755163845682, 0.16562814493130365, 0.2760469082188394, 0.5520938164376789, 0.8683651401965843, 0.3959107530316848, 0.5938661295475273, 0.7893547375577615, 0.6220779198101591, 0.31103895990507957], \"Term\": [\"achieve\", \"adapt\", \"add\", \"address\", \"address\", \"affect\", \"agile\", \"ahead\", \"also\", \"always\", \"area\", \"area\", \"area\", \"area\", \"awesome\", \"awesome\", \"bad\", \"big\", \"big\", \"break\", \"bring\", \"business\", \"business\", \"business\", \"care\", \"challenge\", \"challenge\", \"challenge\", \"clarity\", \"cloud\", \"collaboration\", \"collaboration\", \"come\", \"communication\", \"complete\", \"concern\", \"confident\", \"consider\", \"constraint\", \"continue\", \"continue\", \"continue\", \"control\", \"could\", \"define\", \"definitely\", \"demand\", \"difference\", \"difficult\", \"difficulty\", \"dimension\", \"direction\", \"direction\", \"discussion\", \"discussion\", \"do\", \"drive\", \"due\", \"due\", \"enjoy\", \"enjoy_worke\", \"entire\", \"environment\", \"even\", \"even\", \"execute\", \"experience\", \"experiment\", \"face\", \"factor\", \"fairly\", \"far\", \"feel\", \"feel\", \"feel\", \"feel_like\", \"feeling\", \"form\", \"fun\", \"fun\", \"function\", \"future\", \"future\", \"gel\", \"generally\", \"get\", \"get\", \"glad\", \"go\", \"go\", \"goal\", \"good\", \"good\", \"good\", \"good\", \"great\", \"great\", \"great\", \"great\", \"green\", \"green\", \"group\", \"grow\", \"grow\", \"happy\", \"happy\", \"happy\", \"hard\", \"health\", \"health\", \"health\", \"health\", \"healthy\", \"healthy\", \"help\", \"help\", \"high\", \"honest\", \"however\", \"impact\", \"impact\", \"improve\", \"improve\", \"improve\", \"improvement\", \"improvement\", \"improvement\", \"improvement\", \"influence\", \"internal\", \"involved\", \"issue\", \"issue\", \"keep\", \"know\", \"knowledge\", \"large\", \"large\", \"lead\", \"lead\", \"leadership\", \"learn\", \"learn\", \"learn\", \"less\", \"level\", \"long\", \"look\", \"look\", \"lot\", \"lot\", \"lot\", \"make\", \"make\", \"make\", \"many\", \"many\", \"mature\", \"member\", \"model\", \"month\", \"much\", \"nearly\", \"need\", \"need\", \"need\", \"new\", \"new\", \"open\", \"opportunity\", \"opportunity\", \"outside\", \"overall\", \"overall\", \"overall\", \"overcome\", \"pain\", \"part\", \"part\", \"path\", \"people\", \"plan\", \"point\", \"positive\", \"positive\", \"positive\", \"previous\", \"principle\", \"process\", \"process\", \"process\", \"process\", \"product\", \"product\", \"progress\", \"progress\", \"projectx\", \"provide\", \"provide\", \"push\", \"question\", \"remain\", \"reorg\", \"resource\", \"result\", \"right_direction\", \"rock\", \"room\", \"room\", \"room\", \"say\", \"scale\", \"score\", \"see\", \"see\", \"see\", \"seem\", \"seem\", \"session\", \"session\", \"share\", \"short\", \"solid\", \"start\", \"stay\", \"still\", \"still\", \"strong\", \"strong\", \"strong\", \"support\", \"support\", \"support\", \"take\", \"take\", \"team\", \"team\", \"team\", \"team\", \"team_member\", \"team_member\", \"technology\", \"term\", \"thing\", \"thing\", \"thing\", \"thing\", \"think\", \"think\", \"think\", \"tight\", \"time\", \"time\", \"time\", \"together\", \"together\", \"training\", \"training\", \"trend\", \"trend\", \"trend\", \"trust\", \"trust\", \"try\", \"try\", \"uncertainty\", \"understanding\", \"unknown\", \"upwards\", \"use\", \"valuable\", \"value\", \"value\", \"way\", \"well\", \"well\", \"well\", \"willing\", \"work\", \"work\", \"work\", \"works_well\", \"would\", \"would\", \"would_like\", \"yellow\", \"yellow\"]}, \"R\": 30, \"lambda.step\": 0.01, \"plot.opts\": {\"xlab\": \"PC1\", \"ylab\": \"PC2\"}, \"topic.order\": [4, 3, 2, 1]};\n",
       "\n",
       "function LDAvis_load_lib(url, callback){\n",
       "  var s = document.createElement('script');\n",
       "  s.src = url;\n",
       "  s.async = true;\n",
       "  s.onreadystatechange = s.onload = callback;\n",
       "  s.onerror = function(){console.warn(\"failed to load library \" + url);};\n",
       "  document.getElementsByTagName(\"head\")[0].appendChild(s);\n",
       "}\n",
       "\n",
       "if(typeof(LDAvis) !== \"undefined\"){\n",
       "   // already loaded: just create the visualization\n",
       "   !function(LDAvis){\n",
       "       new LDAvis(\"#\" + \"ldavis_el1484422612081136644698611142\", ldavis_el1484422612081136644698611142_data);\n",
       "   }(LDAvis);\n",
       "}else if(typeof define === \"function\" && define.amd){\n",
       "   // require.js is available: use it to load d3/LDAvis\n",
       "   require.config({paths: {d3: \"https://d3js.org/d3.v5\"}});\n",
       "   require([\"d3\"], function(d3){\n",
       "      window.d3 = d3;\n",
       "      LDAvis_load_lib(\"https://cdn.jsdelivr.net/gh/bmabey/pyLDAvis@3.3.1/pyLDAvis/js/ldavis.v3.0.0.js\", function(){\n",
       "        new LDAvis(\"#\" + \"ldavis_el1484422612081136644698611142\", ldavis_el1484422612081136644698611142_data);\n",
       "      });\n",
       "    });\n",
       "}else{\n",
       "    // require.js not available: dynamically load d3 & LDAvis\n",
       "    LDAvis_load_lib(\"https://d3js.org/d3.v5.js\", function(){\n",
       "         LDAvis_load_lib(\"https://cdn.jsdelivr.net/gh/bmabey/pyLDAvis@3.3.1/pyLDAvis/js/ldavis.v3.0.0.js\", function(){\n",
       "                 new LDAvis(\"#\" + \"ldavis_el1484422612081136644698611142\", ldavis_el1484422612081136644698611142_data);\n",
       "            })\n",
       "         });\n",
       "}\n",
       "</script>"
      ],
      "text/plain": [
       "PreparedData(topic_coordinates=              x         y  topics  cluster       Freq\n",
       "topic                                                \n",
       "3     -0.043299 -0.101630       1        1  32.669743\n",
       "2     -0.063303 -0.054942       2        1  28.008187\n",
       "1     -0.079927  0.139174       3        1  25.697507\n",
       "0      0.186529  0.017399       4        1  13.624563, topic_info=            Term       Freq      Total Category  logprob  loglift\n",
       "33          work  72.000000  72.000000  Default  30.0000  30.0000\n",
       "91        always  15.000000  15.000000  Default  29.0000  29.0000\n",
       "67       support  32.000000  32.000000  Default  28.0000  28.0000\n",
       "48       overall  52.000000  52.000000  Default  27.0000  27.0000\n",
       "114  improvement  31.000000  31.000000  Default  26.0000  26.0000\n",
       "..           ...        ...        ...      ...      ...      ...\n",
       "136        thing   3.453520  19.932862   Topic4  -4.8753   0.2403\n",
       "32         think   3.157821  24.577432   Topic4  -4.9648  -0.0587\n",
       "7        process   3.004541  17.593095   Topic4  -5.0146   0.2259\n",
       "249         area   3.083620  24.872270   Topic4  -4.9886  -0.0944\n",
       "39        health   2.815691  19.163281   Topic4  -5.0795   0.0755\n",
       "\n",
       "[248 rows x 6 columns], token_table=      Topic      Freq        Term\n",
       "term                             \n",
       "393       3  0.935902     achieve\n",
       "13        1  0.840746       adapt\n",
       "351       2  0.754071         add\n",
       "418       1  0.735478     address\n",
       "418       3  0.147096     address\n",
       "...     ...       ...         ...\n",
       "210       1  0.395911       would\n",
       "210       4  0.593866       would\n",
       "346       4  0.789355  would_like\n",
       "244       1  0.622078      yellow\n",
       "244       4  0.311039      yellow\n",
       "\n",
       "[287 rows x 3 columns], R=30, lambda_step=0.01, plot_opts={'xlab': 'PC1', 'ylab': 'PC2'}, topic_order=[4, 3, 2, 1])"
      ]
     },
     "execution_count": 12,
     "metadata": {},
     "output_type": "execute_result"
    }
   ],
   "source": [
    "# Retrain LDA model\n",
    "lda_model = gensim.models.ldamodel.LdaModel(corpus=corpus,\n",
    "                                           id2word=id2word,\n",
    "                                           num_topics=4, # change this number and re-run as needed\n",
    "                                           random_state=100,\n",
    "                                           update_every=1,\n",
    "                                           chunksize=100,\n",
    "                                           passes=10,\n",
    "                                           alpha='auto',\n",
    "                                           per_word_topics=True)\n",
    "\n",
    "# Regenerate model performance metrics\n",
    "print('\\nPerplexity: ', lda_model.log_perplexity(corpus)) \n",
    "\n",
    "coherence_model_lda = CoherenceModel(model=lda_model, texts=data_lemmatized, dictionary=id2word, coherence='c_v')\n",
    "coherence_lda = coherence_model_lda.get_coherence()\n",
    "print('\\nCoherence Score: ', coherence_lda)\n",
    "\n",
    "# Recereate topic visualization\n",
    "pyLDAvis.enable_notebook()\n",
    "vis = gensimvis.prepare(lda_model, corpus, id2word)\n",
    "vis"
   ]
  },
  {
   "cell_type": "code",
   "execution_count": null,
   "id": "185d67c3",
   "metadata": {},
   "outputs": [],
   "source": []
  }
 ],
 "metadata": {
  "kernelspec": {
   "display_name": "Python 3",
   "language": "python",
   "name": "python3"
  },
  "language_info": {
   "codemirror_mode": {
    "name": "ipython",
    "version": 3
   },
   "file_extension": ".py",
   "mimetype": "text/x-python",
   "name": "python",
   "nbconvert_exporter": "python",
   "pygments_lexer": "ipython3",
   "version": "3.8.8"
  }
 },
 "nbformat": 4,
 "nbformat_minor": 5
}
